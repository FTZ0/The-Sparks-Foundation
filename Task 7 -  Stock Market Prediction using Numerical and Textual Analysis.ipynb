{
 "cells": [
  {
   "cell_type": "markdown",
   "metadata": {
    "id": "hyDSP6LR5PCe"
   },
   "source": [
    "# Author: Fatema Tuz Zohora\n",
    "\n",
    "GRIP - The Sparks Foundation\n",
    "\n",
    "Data Science & Business Analytics Intern\n",
    "\n",
    "Task 7: Stock Market Prediction using Numerical and Textual Analysis\n",
    "\n",
    "The task is to analyze and predict - SENSEX (S&P BSE SENSEX)\n",
    "\n",
    "Tools: Numpy Array, Pandas, Matplotlib, Scikit Learn"
   ]
  },
  {
   "cell_type": "code",
   "execution_count": 1,
   "metadata": {
    "colab": {
     "base_uri": "https://localhost:8080/"
    },
    "id": "el31jGPG4Y3w",
    "outputId": "62985e1c-2a65-492d-f274-8ba7a80ad047"
   },
   "outputs": [
    {
     "name": "stderr",
     "output_type": "stream",
     "text": [
      "/usr/local/lib/python3.6/dist-packages/statsmodels/tools/_testing.py:19: FutureWarning: pandas.util.testing is deprecated. Use the functions in the public API at pandas.testing instead.\n",
      "  import pandas.util.testing as tm\n"
     ]
    }
   ],
   "source": [
    "import numpy as np\n",
    "import pandas as pd\n",
    "\n",
    "import matplotlib.pyplot as plt\n",
    "%matplotlib inline\n",
    "\n",
    "import altair as alt  #declarative statistical visualization library\n",
    "\n",
    "import statsmodels.api as sm \n",
    "\n",
    "from sklearn.model_selection import ShuffleSplit\n",
    "from sklearn.metrics import mean_absolute_error\n",
    "from sklearn.metrics import mean_squared_error\n",
    "from sklearn.metrics import r2_score\n",
    "from sklearn.multioutput import RegressorChain\n",
    "from sklearn.ensemble import RandomForestRegressor"
   ]
  },
  {
   "cell_type": "code",
   "execution_count": 3,
   "metadata": {
    "colab": {
     "base_uri": "https://localhost:8080/"
    },
    "id": "3U7shW0n6mSG",
    "outputId": "3a85f610-c80b-4320-8140-54ebd0c38c2f"
   },
   "outputs": [
    {
     "name": "stdout",
     "output_type": "stream",
     "text": [
      "Collecting yfinance\n",
      "  Downloading https://files.pythonhosted.org/packages/7a/e8/b9d7104d3a4bf39924799067592d9e59119fcfc900a425a12e80a3123ec8/yfinance-0.1.55.tar.gz\n",
      "Requirement already satisfied: pandas>=0.24 in /usr/local/lib/python3.6/dist-packages (from yfinance) (1.1.5)\n",
      "Requirement already satisfied: numpy>=1.15 in /usr/local/lib/python3.6/dist-packages (from yfinance) (1.19.5)\n",
      "Requirement already satisfied: requests>=2.20 in /usr/local/lib/python3.6/dist-packages (from yfinance) (2.23.0)\n",
      "Requirement already satisfied: multitasking>=0.0.7 in /usr/local/lib/python3.6/dist-packages (from yfinance) (0.0.9)\n",
      "Collecting lxml>=4.5.1\n",
      "\u001b[?25l  Downloading https://files.pythonhosted.org/packages/bd/78/56a7c88a57d0d14945472535d0df9fb4bbad7d34ede658ec7961635c790e/lxml-4.6.2-cp36-cp36m-manylinux1_x86_64.whl (5.5MB)\n",
      "\u001b[K     |████████████████████████████████| 5.5MB 6.5MB/s \n",
      "\u001b[?25hRequirement already satisfied: pytz>=2017.2 in /usr/local/lib/python3.6/dist-packages (from pandas>=0.24->yfinance) (2018.9)\n",
      "Requirement already satisfied: python-dateutil>=2.7.3 in /usr/local/lib/python3.6/dist-packages (from pandas>=0.24->yfinance) (2.8.1)\n",
      "Requirement already satisfied: idna<3,>=2.5 in /usr/local/lib/python3.6/dist-packages (from requests>=2.20->yfinance) (2.10)\n",
      "Requirement already satisfied: urllib3!=1.25.0,!=1.25.1,<1.26,>=1.21.1 in /usr/local/lib/python3.6/dist-packages (from requests>=2.20->yfinance) (1.24.3)\n",
      "Requirement already satisfied: certifi>=2017.4.17 in /usr/local/lib/python3.6/dist-packages (from requests>=2.20->yfinance) (2020.12.5)\n",
      "Requirement already satisfied: chardet<4,>=3.0.2 in /usr/local/lib/python3.6/dist-packages (from requests>=2.20->yfinance) (3.0.4)\n",
      "Requirement already satisfied: six>=1.5 in /usr/local/lib/python3.6/dist-packages (from python-dateutil>=2.7.3->pandas>=0.24->yfinance) (1.15.0)\n",
      "Building wheels for collected packages: yfinance\n",
      "  Building wheel for yfinance (setup.py) ... \u001b[?25l\u001b[?25hdone\n",
      "  Created wheel for yfinance: filename=yfinance-0.1.55-py2.py3-none-any.whl size=22616 sha256=78392a2f4866439519de9af9353b0a08f916e365441d745ab7d6fd297fe9bd89\n",
      "  Stored in directory: /root/.cache/pip/wheels/04/98/cc/2702a4242d60bdc14f48b4557c427ded1fe92aedf257d4565c\n",
      "Successfully built yfinance\n",
      "Installing collected packages: lxml, yfinance\n",
      "  Found existing installation: lxml 4.2.6\n",
      "    Uninstalling lxml-4.2.6:\n",
      "      Successfully uninstalled lxml-4.2.6\n",
      "Successfully installed lxml-4.6.2 yfinance-0.1.55\n"
     ]
    }
   ],
   "source": [
    "!pip install yfinance"
   ]
  },
  {
   "cell_type": "markdown",
   "metadata": {
    "id": "Zn2jLX256yay"
   },
   "source": [
    "# since our Textual Analysis dataset containing news from Times of India News Headlines is only till 30th June 2020.\n",
    "# So we predict the stock price and closing price for 30th June 2020."
   ]
  },
  {
   "cell_type": "code",
   "execution_count": 4,
   "metadata": {
    "colab": {
     "base_uri": "https://localhost:8080/"
    },
    "id": "7NG8hKnt5h1C",
    "outputId": "b72dedec-e58e-496d-da4a-e261fc867c04"
   },
   "outputs": [
    {
     "name": "stdout",
     "output_type": "stream",
     "text": [
      "[*********************100%***********************]  1 of 1 completed\n",
      "[*********************100%***********************]  1 of 1 completed\n"
     ]
    }
   ],
   "source": [
    "import yfinance as yf\n",
    "BSEdata = yf.download('^BSESN', start='2015-01-01', end='2020-06-30')\n",
    "BSEunseendata = yf.download('^BSESN', start='2020-06-30', end='2020-07-01')"
   ]
  },
  {
   "cell_type": "markdown",
   "metadata": {
    "id": "w_npMTZJ7EuY"
   },
   "source": [
    "# Knowing about data"
   ]
  },
  {
   "cell_type": "code",
   "execution_count": 18,
   "metadata": {
    "colab": {
     "base_uri": "https://localhost:8080/",
     "height": 228
    },
    "id": "AwpqpO2s6ix0",
    "outputId": "9326360f-ad2b-4a61-b603-ff83a426d01b"
   },
   "outputs": [
    {
     "data": {
      "text/html": [
       "<div>\n",
       "<style scoped>\n",
       "    .dataframe tbody tr th:only-of-type {\n",
       "        vertical-align: middle;\n",
       "    }\n",
       "\n",
       "    .dataframe tbody tr th {\n",
       "        vertical-align: top;\n",
       "    }\n",
       "\n",
       "    .dataframe thead th {\n",
       "        text-align: right;\n",
       "    }\n",
       "</style>\n",
       "<table border=\"1\" class=\"dataframe\">\n",
       "  <thead>\n",
       "    <tr style=\"text-align: right;\">\n",
       "      <th></th>\n",
       "      <th>Open</th>\n",
       "      <th>High</th>\n",
       "      <th>Low</th>\n",
       "      <th>Close</th>\n",
       "      <th>Adj Close</th>\n",
       "      <th>Volume</th>\n",
       "    </tr>\n",
       "    <tr>\n",
       "      <th>Date</th>\n",
       "      <th></th>\n",
       "      <th></th>\n",
       "      <th></th>\n",
       "      <th></th>\n",
       "      <th></th>\n",
       "      <th></th>\n",
       "    </tr>\n",
       "  </thead>\n",
       "  <tbody>\n",
       "    <tr>\n",
       "      <th>2015-01-02</th>\n",
       "      <td>27521.279297</td>\n",
       "      <td>27937.470703</td>\n",
       "      <td>27519.259766</td>\n",
       "      <td>27887.900391</td>\n",
       "      <td>27887.900391</td>\n",
       "      <td>7400</td>\n",
       "    </tr>\n",
       "    <tr>\n",
       "      <th>2015-01-05</th>\n",
       "      <td>27978.429688</td>\n",
       "      <td>28064.490234</td>\n",
       "      <td>27786.849609</td>\n",
       "      <td>27842.320312</td>\n",
       "      <td>27842.320312</td>\n",
       "      <td>9200</td>\n",
       "    </tr>\n",
       "    <tr>\n",
       "      <th>2015-01-06</th>\n",
       "      <td>27694.230469</td>\n",
       "      <td>27698.929688</td>\n",
       "      <td>26937.060547</td>\n",
       "      <td>26987.460938</td>\n",
       "      <td>26987.460938</td>\n",
       "      <td>14100</td>\n",
       "    </tr>\n",
       "    <tr>\n",
       "      <th>2015-01-07</th>\n",
       "      <td>26983.429688</td>\n",
       "      <td>27051.599609</td>\n",
       "      <td>26776.119141</td>\n",
       "      <td>26908.820312</td>\n",
       "      <td>26908.820312</td>\n",
       "      <td>12200</td>\n",
       "    </tr>\n",
       "    <tr>\n",
       "      <th>2015-01-08</th>\n",
       "      <td>27178.769531</td>\n",
       "      <td>27316.410156</td>\n",
       "      <td>27101.939453</td>\n",
       "      <td>27274.710938</td>\n",
       "      <td>27274.710938</td>\n",
       "      <td>8200</td>\n",
       "    </tr>\n",
       "  </tbody>\n",
       "</table>\n",
       "</div>"
      ],
      "text/plain": [
       "                    Open          High  ...     Adj Close  Volume\n",
       "Date                                    ...                      \n",
       "2015-01-02  27521.279297  27937.470703  ...  27887.900391    7400\n",
       "2015-01-05  27978.429688  28064.490234  ...  27842.320312    9200\n",
       "2015-01-06  27694.230469  27698.929688  ...  26987.460938   14100\n",
       "2015-01-07  26983.429688  27051.599609  ...  26908.820312   12200\n",
       "2015-01-08  27178.769531  27316.410156  ...  27274.710938    8200\n",
       "\n",
       "[5 rows x 6 columns]"
      ]
     },
     "execution_count": 18,
     "metadata": {
      "tags": []
     },
     "output_type": "execute_result"
    }
   ],
   "source": [
    "BSEdata.head()"
   ]
  },
  {
   "cell_type": "code",
   "execution_count": 24,
   "metadata": {
    "id": "00ZPgmzZ9jYK"
   },
   "outputs": [],
   "source": [
    "BSEdata.rename(columns={'Open': 'open', 'High': 'high', 'Low': 'low', 'Close': 'close', 'Adj Close': 'adjclose', 'Volume': 'volume'}, inplace = True)\n",
    "BSEdata.reset_index(inplace=True)\n",
    "BSEdata.rename(columns={'Date': 'date'}, inplace = True)\n",
    "BSEdata['date'] = pd.to_datetime(BSEdata['date'], format = '%Y%m%d')"
   ]
  },
  {
   "cell_type": "code",
   "execution_count": 25,
   "metadata": {
    "colab": {
     "base_uri": "https://localhost:8080/",
     "height": 198
    },
    "id": "9jiF5CSr7oTE",
    "outputId": "e166d0c0-2a04-483d-d448-167481dfac21"
   },
   "outputs": [
    {
     "data": {
      "text/html": [
       "<div>\n",
       "<style scoped>\n",
       "    .dataframe tbody tr th:only-of-type {\n",
       "        vertical-align: middle;\n",
       "    }\n",
       "\n",
       "    .dataframe tbody tr th {\n",
       "        vertical-align: top;\n",
       "    }\n",
       "\n",
       "    .dataframe thead th {\n",
       "        text-align: right;\n",
       "    }\n",
       "</style>\n",
       "<table border=\"1\" class=\"dataframe\">\n",
       "  <thead>\n",
       "    <tr style=\"text-align: right;\">\n",
       "      <th></th>\n",
       "      <th>index</th>\n",
       "      <th>date</th>\n",
       "      <th>open</th>\n",
       "      <th>high</th>\n",
       "      <th>low</th>\n",
       "      <th>close</th>\n",
       "      <th>adjclose</th>\n",
       "      <th>volume</th>\n",
       "    </tr>\n",
       "  </thead>\n",
       "  <tbody>\n",
       "    <tr>\n",
       "      <th>1340</th>\n",
       "      <td>1340</td>\n",
       "      <td>2020-06-23</td>\n",
       "      <td>35015.730469</td>\n",
       "      <td>35482.160156</td>\n",
       "      <td>34843.691406</td>\n",
       "      <td>35430.429688</td>\n",
       "      <td>35430.429688</td>\n",
       "      <td>25200</td>\n",
       "    </tr>\n",
       "    <tr>\n",
       "      <th>1341</th>\n",
       "      <td>1341</td>\n",
       "      <td>2020-06-24</td>\n",
       "      <td>35679.738281</td>\n",
       "      <td>35706.550781</td>\n",
       "      <td>34794.929688</td>\n",
       "      <td>34868.980469</td>\n",
       "      <td>34868.980469</td>\n",
       "      <td>26600</td>\n",
       "    </tr>\n",
       "    <tr>\n",
       "      <th>1342</th>\n",
       "      <td>1342</td>\n",
       "      <td>2020-06-25</td>\n",
       "      <td>34525.390625</td>\n",
       "      <td>35081.609375</td>\n",
       "      <td>34499.781250</td>\n",
       "      <td>34842.101562</td>\n",
       "      <td>34842.101562</td>\n",
       "      <td>24600</td>\n",
       "    </tr>\n",
       "    <tr>\n",
       "      <th>1343</th>\n",
       "      <td>1343</td>\n",
       "      <td>2020-06-26</td>\n",
       "      <td>35144.781250</td>\n",
       "      <td>35254.878906</td>\n",
       "      <td>34910.339844</td>\n",
       "      <td>35171.269531</td>\n",
       "      <td>35171.269531</td>\n",
       "      <td>24800</td>\n",
       "    </tr>\n",
       "    <tr>\n",
       "      <th>1344</th>\n",
       "      <td>1344</td>\n",
       "      <td>2020-06-29</td>\n",
       "      <td>34926.949219</td>\n",
       "      <td>35032.359375</td>\n",
       "      <td>34662.058594</td>\n",
       "      <td>34961.519531</td>\n",
       "      <td>34961.519531</td>\n",
       "      <td>18300</td>\n",
       "    </tr>\n",
       "  </tbody>\n",
       "</table>\n",
       "</div>"
      ],
      "text/plain": [
       "      index       date          open  ...         close      adjclose  volume\n",
       "1340   1340 2020-06-23  35015.730469  ...  35430.429688  35430.429688   25200\n",
       "1341   1341 2020-06-24  35679.738281  ...  34868.980469  34868.980469   26600\n",
       "1342   1342 2020-06-25  34525.390625  ...  34842.101562  34842.101562   24600\n",
       "1343   1343 2020-06-26  35144.781250  ...  35171.269531  35171.269531   24800\n",
       "1344   1344 2020-06-29  34926.949219  ...  34961.519531  34961.519531   18300\n",
       "\n",
       "[5 rows x 8 columns]"
      ]
     },
     "execution_count": 25,
     "metadata": {
      "tags": []
     },
     "output_type": "execute_result"
    }
   ],
   "source": [
    "BSEdata.tail()"
   ]
  },
  {
   "cell_type": "code",
   "execution_count": 6,
   "metadata": {
    "colab": {
     "base_uri": "https://localhost:8080/"
    },
    "id": "AMU48qXL69YN",
    "outputId": "b1fb335b-d27f-4fc5-b03d-d442222a1921"
   },
   "outputs": [
    {
     "name": "stdout",
     "output_type": "stream",
     "text": [
      "<class 'pandas.core.frame.DataFrame'>\n",
      "DatetimeIndex: 1345 entries, 2015-01-02 to 2020-06-29\n",
      "Data columns (total 6 columns):\n",
      " #   Column     Non-Null Count  Dtype  \n",
      "---  ------     --------------  -----  \n",
      " 0   Open       1345 non-null   float64\n",
      " 1   High       1345 non-null   float64\n",
      " 2   Low        1345 non-null   float64\n",
      " 3   Close      1345 non-null   float64\n",
      " 4   Adj Close  1345 non-null   float64\n",
      " 5   Volume     1345 non-null   int64  \n",
      "dtypes: float64(5), int64(1)\n",
      "memory usage: 73.6 KB\n"
     ]
    }
   ],
   "source": [
    "BSEdata.info()"
   ]
  },
  {
   "cell_type": "code",
   "execution_count": 7,
   "metadata": {
    "colab": {
     "base_uri": "https://localhost:8080/",
     "height": 288
    },
    "id": "ceaWWic67CxB",
    "outputId": "04a0b375-6240-402c-888b-2b9959573175"
   },
   "outputs": [
    {
     "data": {
      "text/html": [
       "<div>\n",
       "<style scoped>\n",
       "    .dataframe tbody tr th:only-of-type {\n",
       "        vertical-align: middle;\n",
       "    }\n",
       "\n",
       "    .dataframe tbody tr th {\n",
       "        vertical-align: top;\n",
       "    }\n",
       "\n",
       "    .dataframe thead th {\n",
       "        text-align: right;\n",
       "    }\n",
       "</style>\n",
       "<table border=\"1\" class=\"dataframe\">\n",
       "  <thead>\n",
       "    <tr style=\"text-align: right;\">\n",
       "      <th></th>\n",
       "      <th>Open</th>\n",
       "      <th>High</th>\n",
       "      <th>Low</th>\n",
       "      <th>Close</th>\n",
       "      <th>Adj Close</th>\n",
       "      <th>Volume</th>\n",
       "    </tr>\n",
       "  </thead>\n",
       "  <tbody>\n",
       "    <tr>\n",
       "      <th>count</th>\n",
       "      <td>1345.000000</td>\n",
       "      <td>1345.000000</td>\n",
       "      <td>1345.000000</td>\n",
       "      <td>1345.000000</td>\n",
       "      <td>1345.000000</td>\n",
       "      <td>1.345000e+03</td>\n",
       "    </tr>\n",
       "    <tr>\n",
       "      <th>mean</th>\n",
       "      <td>32032.534800</td>\n",
       "      <td>32180.642524</td>\n",
       "      <td>31806.772791</td>\n",
       "      <td>31984.237075</td>\n",
       "      <td>31984.237075</td>\n",
       "      <td>2.506319e+05</td>\n",
       "    </tr>\n",
       "    <tr>\n",
       "      <th>std</th>\n",
       "      <td>4954.395482</td>\n",
       "      <td>4960.357794</td>\n",
       "      <td>4930.071573</td>\n",
       "      <td>4942.241822</td>\n",
       "      <td>4942.241822</td>\n",
       "      <td>2.031427e+06</td>\n",
       "    </tr>\n",
       "    <tr>\n",
       "      <th>min</th>\n",
       "      <td>23060.390625</td>\n",
       "      <td>23142.960938</td>\n",
       "      <td>22494.609375</td>\n",
       "      <td>22951.830078</td>\n",
       "      <td>22951.830078</td>\n",
       "      <td>2.500000e+03</td>\n",
       "    </tr>\n",
       "    <tr>\n",
       "      <th>25%</th>\n",
       "      <td>27721.720703</td>\n",
       "      <td>27902.390625</td>\n",
       "      <td>27563.839844</td>\n",
       "      <td>27697.509766</td>\n",
       "      <td>27697.509766</td>\n",
       "      <td>1.000000e+04</td>\n",
       "    </tr>\n",
       "    <tr>\n",
       "      <th>50%</th>\n",
       "      <td>31694.150391</td>\n",
       "      <td>31809.699219</td>\n",
       "      <td>31471.410156</td>\n",
       "      <td>31646.460938</td>\n",
       "      <td>31646.460938</td>\n",
       "      <td>1.270000e+04</td>\n",
       "    </tr>\n",
       "    <tr>\n",
       "      <th>75%</th>\n",
       "      <td>36106.359375</td>\n",
       "      <td>36253.851562</td>\n",
       "      <td>35863.289062</td>\n",
       "      <td>36033.730469</td>\n",
       "      <td>36033.730469</td>\n",
       "      <td>1.830000e+04</td>\n",
       "    </tr>\n",
       "    <tr>\n",
       "      <th>max</th>\n",
       "      <td>42263.000000</td>\n",
       "      <td>42273.871094</td>\n",
       "      <td>41850.289062</td>\n",
       "      <td>41952.628906</td>\n",
       "      <td>41952.628906</td>\n",
       "      <td>3.181510e+07</td>\n",
       "    </tr>\n",
       "  </tbody>\n",
       "</table>\n",
       "</div>"
      ],
      "text/plain": [
       "               Open          High  ...     Adj Close        Volume\n",
       "count   1345.000000   1345.000000  ...   1345.000000  1.345000e+03\n",
       "mean   32032.534800  32180.642524  ...  31984.237075  2.506319e+05\n",
       "std     4954.395482   4960.357794  ...   4942.241822  2.031427e+06\n",
       "min    23060.390625  23142.960938  ...  22951.830078  2.500000e+03\n",
       "25%    27721.720703  27902.390625  ...  27697.509766  1.000000e+04\n",
       "50%    31694.150391  31809.699219  ...  31646.460938  1.270000e+04\n",
       "75%    36106.359375  36253.851562  ...  36033.730469  1.830000e+04\n",
       "max    42263.000000  42273.871094  ...  41952.628906  3.181510e+07\n",
       "\n",
       "[8 rows x 6 columns]"
      ]
     },
     "execution_count": 7,
     "metadata": {
      "tags": []
     },
     "output_type": "execute_result"
    }
   ],
   "source": [
    "BSEdata.describe()"
   ]
  },
  {
   "cell_type": "code",
   "execution_count": null,
   "metadata": {
    "id": "m0IPnYTIaYLi"
   },
   "outputs": [],
   "source": [
    "BSEdata.isnull().sum()"
   ]
  },
  {
   "cell_type": "code",
   "execution_count": 9,
   "metadata": {
    "colab": {
     "base_uri": "https://localhost:8080/",
     "height": 108
    },
    "id": "sT95n86e7KTd",
    "outputId": "b70cf196-ba79-47f1-c515-9481a229d0e5"
   },
   "outputs": [
    {
     "data": {
      "text/html": [
       "<div>\n",
       "<style scoped>\n",
       "    .dataframe tbody tr th:only-of-type {\n",
       "        vertical-align: middle;\n",
       "    }\n",
       "\n",
       "    .dataframe tbody tr th {\n",
       "        vertical-align: top;\n",
       "    }\n",
       "\n",
       "    .dataframe thead th {\n",
       "        text-align: right;\n",
       "    }\n",
       "</style>\n",
       "<table border=\"1\" class=\"dataframe\">\n",
       "  <thead>\n",
       "    <tr style=\"text-align: right;\">\n",
       "      <th></th>\n",
       "      <th>Open</th>\n",
       "      <th>High</th>\n",
       "      <th>Low</th>\n",
       "      <th>Close</th>\n",
       "      <th>Adj Close</th>\n",
       "      <th>Volume</th>\n",
       "    </tr>\n",
       "    <tr>\n",
       "      <th>Date</th>\n",
       "      <th></th>\n",
       "      <th></th>\n",
       "      <th></th>\n",
       "      <th></th>\n",
       "      <th></th>\n",
       "      <th></th>\n",
       "    </tr>\n",
       "  </thead>\n",
       "  <tbody>\n",
       "    <tr>\n",
       "      <th>2020-06-30</th>\n",
       "      <td>35168.300781</td>\n",
       "      <td>35233.910156</td>\n",
       "      <td>34812.800781</td>\n",
       "      <td>34915.800781</td>\n",
       "      <td>34915.800781</td>\n",
       "      <td>18500</td>\n",
       "    </tr>\n",
       "  </tbody>\n",
       "</table>\n",
       "</div>"
      ],
      "text/plain": [
       "                    Open          High  ...     Adj Close  Volume\n",
       "Date                                    ...                      \n",
       "2020-06-30  35168.300781  35233.910156  ...  34915.800781   18500\n",
       "\n",
       "[1 rows x 6 columns]"
      ]
     },
     "execution_count": 9,
     "metadata": {
      "tags": []
     },
     "output_type": "execute_result"
    }
   ],
   "source": [
    "BSEunseendata"
   ]
  },
  {
   "cell_type": "code",
   "execution_count": 27,
   "metadata": {
    "id": "7xxe5XaL9qOl"
   },
   "outputs": [],
   "source": [
    "BSEunseendata.rename(columns={'Open': 'open', 'High': 'high', 'Low': 'low', 'Close': 'close', 'Adj Close': 'adjclose', 'Volume': 'volume'}, inplace = True)\n",
    "BSEunseendata.reset_index(inplace=True)\n",
    "BSEunseendata.rename(columns={'date': 'date'}, inplace = True)\n",
    "BSEunseendata['date'] = pd.to_datetime(BSEunseendata['date'], format = '%Y%m%d')\n"
   ]
  },
  {
   "cell_type": "code",
   "execution_count": 28,
   "metadata": {
    "colab": {
     "base_uri": "https://localhost:8080/",
     "height": 78
    },
    "id": "TPxS_s-M9rNz",
    "outputId": "fd39c8b3-9a1f-4294-faf0-ccb557bf89ca"
   },
   "outputs": [
    {
     "data": {
      "text/html": [
       "<div>\n",
       "<style scoped>\n",
       "    .dataframe tbody tr th:only-of-type {\n",
       "        vertical-align: middle;\n",
       "    }\n",
       "\n",
       "    .dataframe tbody tr th {\n",
       "        vertical-align: top;\n",
       "    }\n",
       "\n",
       "    .dataframe thead th {\n",
       "        text-align: right;\n",
       "    }\n",
       "</style>\n",
       "<table border=\"1\" class=\"dataframe\">\n",
       "  <thead>\n",
       "    <tr style=\"text-align: right;\">\n",
       "      <th></th>\n",
       "      <th>index</th>\n",
       "      <th>date</th>\n",
       "      <th>open</th>\n",
       "      <th>high</th>\n",
       "      <th>low</th>\n",
       "      <th>close</th>\n",
       "      <th>adjclose</th>\n",
       "      <th>volume</th>\n",
       "    </tr>\n",
       "  </thead>\n",
       "  <tbody>\n",
       "    <tr>\n",
       "      <th>0</th>\n",
       "      <td>0</td>\n",
       "      <td>2020-06-30</td>\n",
       "      <td>35168.300781</td>\n",
       "      <td>35233.910156</td>\n",
       "      <td>34812.800781</td>\n",
       "      <td>34915.800781</td>\n",
       "      <td>34915.800781</td>\n",
       "      <td>18500</td>\n",
       "    </tr>\n",
       "  </tbody>\n",
       "</table>\n",
       "</div>"
      ],
      "text/plain": [
       "   index       date          open  ...         close      adjclose  volume\n",
       "0      0 2020-06-30  35168.300781  ...  34915.800781  34915.800781   18500\n",
       "\n",
       "[1 rows x 8 columns]"
      ]
     },
     "execution_count": 28,
     "metadata": {
      "tags": []
     },
     "output_type": "execute_result"
    }
   ],
   "source": [
    "BSEunseendata"
   ]
  },
  {
   "cell_type": "code",
   "execution_count": 29,
   "metadata": {
    "colab": {
     "base_uri": "https://localhost:8080/"
    },
    "id": "pRBWvB1R7ZtJ",
    "outputId": "51670a1c-19b2-4c5c-dc6c-2a17ffee95aa"
   },
   "outputs": [
    {
     "name": "stdout",
     "output_type": "stream",
     "text": [
      "<class 'pandas.core.frame.DataFrame'>\n",
      "RangeIndex: 1 entries, 0 to 0\n",
      "Data columns (total 8 columns):\n",
      " #   Column    Non-Null Count  Dtype         \n",
      "---  ------    --------------  -----         \n",
      " 0   index     1 non-null      int64         \n",
      " 1   date      1 non-null      datetime64[ns]\n",
      " 2   open      1 non-null      float64       \n",
      " 3   high      1 non-null      float64       \n",
      " 4   low       1 non-null      float64       \n",
      " 5   close     1 non-null      float64       \n",
      " 6   adjclose  1 non-null      float64       \n",
      " 7   volume    1 non-null      int64         \n",
      "dtypes: datetime64[ns](1), float64(5), int64(2)\n",
      "memory usage: 192.0 bytes\n"
     ]
    }
   ],
   "source": [
    "BSEunseendata.info()"
   ]
  },
  {
   "cell_type": "markdown",
   "metadata": {
    "id": "sNZ879EVb_90"
   },
   "source": [
    "# Close Price history"
   ]
  },
  {
   "cell_type": "code",
   "execution_count": 84,
   "metadata": {
    "colab": {
     "base_uri": "https://localhost:8080/",
     "height": 483
    },
    "id": "2L53mw7Tboyn",
    "outputId": "f4070f68-55cc-4850-8d74-1b65c68faf86"
   },
   "outputs": [
    {
     "data": {
      "image/png": "[encoded data removed]",
      "text/plain": [
       "<Figure size 1152x576 with 1 Axes>"
      ]
     },
     "metadata": {
      "needs_background": "light",
      "tags": []
     },
     "output_type": "display_data"
    }
   ],
   "source": [
    "plt.figure(figsize=(16,8))\n",
    "plt.plot(BSEdata[\"close\"])\n"
   ]
  },
  {
   "cell_type": "markdown",
   "metadata": {
    "id": "2NA94W8Q-3R-"
   },
   "source": [
    "# actual price"
   ]
  },
  {
   "cell_type": "code",
   "execution_count": 32,
   "metadata": {
    "colab": {
     "base_uri": "https://localhost:8080/"
    },
    "id": "2g5n58958R7U",
    "outputId": "e0e950be-1bcf-4c0a-abf0-63fbfa44e37f"
   },
   "outputs": [
    {
     "data": {
      "text/plain": [
       "0    34987.5\n",
       "dtype: float64"
      ]
     },
     "execution_count": 32,
     "metadata": {
      "tags": []
     },
     "output_type": "execute_result"
    }
   ],
   "source": [
    "#(high+low+close)/3)\n",
    "BSEunseendata_price = round((BSEunseendata['high'] + BSEunseendata['low'] + BSEunseendata['close'])/ 3, 2)\n",
    "BSEunseendata_price "
   ]
  },
  {
   "cell_type": "code",
   "execution_count": 33,
   "metadata": {
    "id": "iVN1jeMC_JR5"
   },
   "outputs": [],
   "source": [
    "# Rolling window analysis of time series\n",
    "\n",
    "def stock_weekmoving_avg(wks, df):\n",
    "  dateclose = pd.DataFrame({'date': df['date'], 'close':df['close']})\n",
    "  dateclose.set_index('date', inplace=True)\n",
    "  num = wks * 5  #BSE is open for 5 days / week\n",
    "  dateclose['movingavg'] = dateclose['close'].rolling(window=num).mean().shift()\n",
    "  return dateclose.dropna()"
   ]
  },
  {
   "cell_type": "markdown",
   "metadata": {
    "id": "FR0s0rlpIawW"
   },
   "source": [
    "# 4 week moving average of closing price of BSE index"
   ]
  },
  {
   "cell_type": "code",
   "execution_count": 35,
   "metadata": {
    "colab": {
     "base_uri": "https://localhost:8080/",
     "height": 287
    },
    "id": "YlWyIm9TAz23",
    "outputId": "e247ff25-8c8a-4b07-90b6-712ae5b25293"
   },
   "outputs": [
    {
     "data": {
      "text/plain": [
       "<matplotlib.axes._subplots.AxesSubplot at 0x7fa5ace59898>"
      ]
     },
     "execution_count": 35,
     "metadata": {
      "tags": []
     },
     "output_type": "execute_result"
    },
    {
     "data": {
      "image/png": "[encoded data removed]",
      "text/plain": [
       "<Figure size 432x288 with 1 Axes>"
      ]
     },
     "metadata": {
      "needs_background": "light",
      "tags": []
     },
     "output_type": "display_data"
    }
   ],
   "source": [
    "stock_weekmoving_avg(4, BSEdata).plot()"
   ]
  },
  {
   "cell_type": "markdown",
   "metadata": {
    "id": "L85QZmcgBhgS"
   },
   "source": [
    "#  Partial Autocorrelation Plot"
   ]
  },
  {
   "cell_type": "code",
   "execution_count": 38,
   "metadata": {
    "colab": {
     "base_uri": "https://localhost:8080/",
     "height": 317
    },
    "id": "c1Zwe4aTBFKW",
    "outputId": "98e106ce-2593-4b4c-edb1-fc1ac24a20d8"
   },
   "outputs": [
    {
     "name": "stderr",
     "output_type": "stream",
     "text": [
      "/usr/local/lib/python3.6/dist-packages/statsmodels/regression/linear_model.py:1358: RuntimeWarning: invalid value encountered in sqrt\n",
      "  return rho, np.sqrt(sigmasq)\n"
     ]
    },
    {
     "data": {
      "image/png": "[encoded data removed]",
      "text/plain": [
       "<Figure size 432x288 with 1 Axes>"
      ]
     },
     "metadata": {
      "needs_background": "light",
      "tags": []
     },
     "output_type": "display_data"
    }
   ],
   "source": [
    "fourweek_altdata = stock_weekmoving_avg(4, BSEdata)\n",
    "fourweek_altdata.reset_index(inplace=True)\n",
    "fourweek_altdata.rename(columns={list(fourweek_altdata)[0]:'date'}, inplace=True)\n",
    "\n",
    "alt.Chart(fourweek_altdata).mark_point().encode(x='date', y='movingavg')\n",
    "\n",
    "plot= fourweek_altdata.filter(['date', 'movingavg'], axis=1) \n",
    "plot.index = pd.Index(sm.tsa.datetools.dates_from_range('2015', length=len(fourweek_altdata['date']))) \n",
    "del plot['date']\n",
    "sm.graphics.tsa.plot_pacf(plot.values.squeeze())\n",
    "plt.show()"
   ]
  },
  {
   "cell_type": "markdown",
   "metadata": {
    "id": "HVuQ9IuACxyS"
   },
   "source": [
    "> partial autocorrelations at lag values 4 and 32 which represents regions which is not seen in the above plot"
   ]
  },
  {
   "cell_type": "markdown",
   "metadata": {
    "id": "vlBVyKlVDP8k"
   },
   "source": [
    "# 16 week moving average of closing price of BSE index"
   ]
  },
  {
   "cell_type": "code",
   "execution_count": 42,
   "metadata": {
    "colab": {
     "base_uri": "https://localhost:8080/",
     "height": 287
    },
    "id": "-ajUjKiACWwj",
    "outputId": "b0187a5c-7e4f-4541-d4c3-71f4126addb3"
   },
   "outputs": [
    {
     "data": {
      "text/plain": [
       "<matplotlib.axes._subplots.AxesSubplot at 0x7fa5ac866978>"
      ]
     },
     "execution_count": 42,
     "metadata": {
      "tags": []
     },
     "output_type": "execute_result"
    },
    {
     "data": {
      "image/png": "[encoded data removed]",
      "text/plain": [
       "<Figure size 432x288 with 1 Axes>"
      ]
     },
     "metadata": {
      "needs_background": "light",
      "tags": []
     },
     "output_type": "display_data"
    }
   ],
   "source": [
    "stock_weekmoving_avg(16, BSEdata).plot()"
   ]
  },
  {
   "cell_type": "code",
   "execution_count": 51,
   "metadata": {
    "colab": {
     "base_uri": "https://localhost:8080/",
     "height": 317
    },
    "id": "fNtZCbOODWPH",
    "outputId": "5b4ed4cf-590e-4d96-80b2-508317c1488d"
   },
   "outputs": [
    {
     "name": "stderr",
     "output_type": "stream",
     "text": [
      "/usr/local/lib/python3.6/dist-packages/statsmodels/regression/linear_model.py:1358: RuntimeWarning: invalid value encountered in sqrt\n",
      "  return rho, np.sqrt(sigmasq)\n"
     ]
    },
    {
     "data": {
      "image/png": "[encoded data removed]",
      "text/plain": [
       "<Figure size 432x288 with 1 Axes>"
      ]
     },
     "metadata": {
      "needs_background": "light",
      "tags": []
     },
     "output_type": "display_data"
    }
   ],
   "source": [
    "sixteenweek_altdata = stock_weekmoving_avg(16, BSEdata)\n",
    "sixteenweek_altdata.reset_index(inplace=True)\n",
    "\n",
    "sixteenweek_altdata.rename(columns={list(sixteenweek_altdata)[0]:'date'}, inplace=True)\n",
    "\n",
    "alt.Chart(sixteenweek_altdata).mark_point().encode(x='date', y='movingavg')\n",
    "\n",
    "plotsixteenweek = sixteenweek_altdata.filter(['date', 'movingavg'], axis=1)\n",
    "plotsixteenweek.index = pd.Index(sm.tsa.datetools.dates_from_range('2015', length=len(sixteenweek_altdata['date']))) \n",
    "del plotsixteenweek['date']\n",
    "sm.graphics.tsa.plot_pacf(plotsixteenweek.values.squeeze())\n",
    "plt.show()"
   ]
  },
  {
   "cell_type": "markdown",
   "metadata": {
    "id": "_y3mrzbhGM5o"
   },
   "source": [
    ">partial autocorrelations at lag values 0, 1, 12, 13, 14, 15, 16, 17, 18, 19, 20, 21, 22, 23, 24, 25, 26, 27, 28.\n",
    "Where 0, 1, 19 represents a perfect positive correlation and 20 represents a perfect negative correlation.\n"
   ]
  },
  {
   "cell_type": "markdown",
   "metadata": {
    "id": "nOi3nhk0ILZT"
   },
   "source": [
    "#  52 week moving average of closing price of BSE index"
   ]
  },
  {
   "cell_type": "code",
   "execution_count": 52,
   "metadata": {
    "colab": {
     "base_uri": "https://localhost:8080/",
     "height": 295
    },
    "id": "XpYHcDzhD3YO",
    "outputId": "96a54e6d-f951-42b5-ab1a-24e8bff35b05"
   },
   "outputs": [
    {
     "data": {
      "text/plain": [
       "<matplotlib.axes._subplots.AxesSubplot at 0x7fa5a4527eb8>"
      ]
     },
     "execution_count": 52,
     "metadata": {
      "tags": []
     },
     "output_type": "execute_result"
    },
    {
     "data": {
      "image/png": "[encoded data removed]",
      "text/plain": [
       "<Figure size 432x288 with 1 Axes>"
      ]
     },
     "metadata": {
      "needs_background": "light",
      "tags": []
     },
     "output_type": "display_data"
    }
   ],
   "source": [
    "stock_weekmoving_avg(52, BSEdata).plot()"
   ]
  },
  {
   "cell_type": "code",
   "execution_count": 54,
   "metadata": {
    "colab": {
     "base_uri": "https://localhost:8080/",
     "height": 281
    },
    "id": "21OcpXdKI29B",
    "outputId": "3ae1a025-f482-4291-ad76-6aac755157a3"
   },
   "outputs": [
    {
     "data": {
      "image/png": "[encoded data removed]",
      "text/plain": [
       "<Figure size 432x288 with 1 Axes>"
      ]
     },
     "metadata": {
      "needs_background": "light",
      "tags": []
     },
     "output_type": "display_data"
    }
   ],
   "source": [
    "fiftytwoweek_altdata = stock_weekmoving_avg(52, BSEdata)\n",
    "fiftytwoweek_altdata.reset_index(inplace=True)\n",
    "\n",
    "fiftytwoweek_altdata.rename(columns={list(fiftytwoweek_altdata)[0]:'date'}, inplace=True)\n",
    "alt.Chart(fiftytwoweek_altdata).mark_point().encode( x='date', y='movingavg')\n",
    "\n",
    "fiftytwoweekplot = fiftytwoweek_altdata.filter(['date', 'movingavg'], axis=1) \n",
    "fiftytwoweekplot.index = pd.Index(sm.tsa.datetools.dates_from_range('2015', length=len(fiftytwoweek_altdata['date']))) \n",
    "del fiftytwoweekplot['date']\n",
    "sm.graphics.tsa.plot_pacf(fiftytwoweekplot.values.squeeze())\n",
    "plt.show()"
   ]
  },
  {
   "cell_type": "markdown",
   "metadata": {
    "id": "fRvIU8FxKAdc"
   },
   "source": [
    "> partial autocorrelations at lag values 0, 1 represents a perfect positive correlation."
   ]
  },
  {
   "cell_type": "markdown",
   "metadata": {
    "id": "BkYhhaMFK11j"
   },
   "source": [
    "# Creating a rolling window of  50 of the BSE index"
   ]
  },
  {
   "cell_type": "code",
   "execution_count": 55,
   "metadata": {
    "id": "JN-YAXvsJkd5"
   },
   "outputs": [],
   "source": [
    "def rolling_windows(days, df):\n",
    "  data = df.filter(['date','open','high','low','close'], axis=1)\n",
    "  data.set_index('date', inplace=True)\n",
    "  rollingwindows = data.rolling(window=days).mean().shift()\n",
    "  return rollingwindows.dropna()"
   ]
  },
  {
   "cell_type": "code",
   "execution_count": 57,
   "metadata": {
    "colab": {
     "base_uri": "https://localhost:8080/",
     "height": 228
    },
    "id": "k99MDY3mLCba",
    "outputId": "702a7c69-e920-4a4e-8859-f5c3ded239be"
   },
   "outputs": [
    {
     "data": {
      "text/html": [
       "<div>\n",
       "<style scoped>\n",
       "    .dataframe tbody tr th:only-of-type {\n",
       "        vertical-align: middle;\n",
       "    }\n",
       "\n",
       "    .dataframe tbody tr th {\n",
       "        vertical-align: top;\n",
       "    }\n",
       "\n",
       "    .dataframe thead th {\n",
       "        text-align: right;\n",
       "    }\n",
       "</style>\n",
       "<table border=\"1\" class=\"dataframe\">\n",
       "  <thead>\n",
       "    <tr style=\"text-align: right;\">\n",
       "      <th></th>\n",
       "      <th>open</th>\n",
       "      <th>high</th>\n",
       "      <th>low</th>\n",
       "      <th>close</th>\n",
       "    </tr>\n",
       "    <tr>\n",
       "      <th>date</th>\n",
       "      <th></th>\n",
       "      <th></th>\n",
       "      <th></th>\n",
       "      <th></th>\n",
       "    </tr>\n",
       "  </thead>\n",
       "  <tbody>\n",
       "    <tr>\n",
       "      <th>2015-03-18</th>\n",
       "      <td>28721.847383</td>\n",
       "      <td>28863.956836</td>\n",
       "      <td>28502.767422</td>\n",
       "      <td>28670.602461</td>\n",
       "    </tr>\n",
       "    <tr>\n",
       "      <th>2015-03-19</th>\n",
       "      <td>28746.759180</td>\n",
       "      <td>28881.346836</td>\n",
       "      <td>28523.317422</td>\n",
       "      <td>28685.286836</td>\n",
       "    </tr>\n",
       "    <tr>\n",
       "      <th>2015-03-20</th>\n",
       "      <td>28763.295000</td>\n",
       "      <td>28899.631836</td>\n",
       "      <td>28535.814414</td>\n",
       "      <td>28697.833828</td>\n",
       "    </tr>\n",
       "    <tr>\n",
       "      <th>2015-03-23</th>\n",
       "      <td>28778.719180</td>\n",
       "      <td>28915.340430</td>\n",
       "      <td>28561.266406</td>\n",
       "      <td>28723.306211</td>\n",
       "    </tr>\n",
       "    <tr>\n",
       "      <th>2015-03-24</th>\n",
       "      <td>28805.396367</td>\n",
       "      <td>28942.011250</td>\n",
       "      <td>28589.022031</td>\n",
       "      <td>28748.970195</td>\n",
       "    </tr>\n",
       "  </tbody>\n",
       "</table>\n",
       "</div>"
      ],
      "text/plain": [
       "                    open          high           low         close\n",
       "date                                                              \n",
       "2015-03-18  28721.847383  28863.956836  28502.767422  28670.602461\n",
       "2015-03-19  28746.759180  28881.346836  28523.317422  28685.286836\n",
       "2015-03-20  28763.295000  28899.631836  28535.814414  28697.833828\n",
       "2015-03-23  28778.719180  28915.340430  28561.266406  28723.306211\n",
       "2015-03-24  28805.396367  28942.011250  28589.022031  28748.970195"
      ]
     },
     "execution_count": 57,
     "metadata": {
      "tags": []
     },
     "output_type": "execute_result"
    }
   ],
   "source": [
    "rolling_windows(50, BSEdata).head()"
   ]
  },
  {
   "cell_type": "code",
   "execution_count": 59,
   "metadata": {
    "colab": {
     "base_uri": "https://localhost:8080/",
     "height": 287
    },
    "id": "jE7mW3U0LHE2",
    "outputId": "0d65b85d-03e3-4b47-8a74-a9c9af7c4f11"
   },
   "outputs": [
    {
     "data": {
      "text/plain": [
       "<matplotlib.axes._subplots.AxesSubplot at 0x7fa5a43d2128>"
      ]
     },
     "execution_count": 59,
     "metadata": {
      "tags": []
     },
     "output_type": "execute_result"
    },
    {
     "data": {
      "image/png": "[encoded data removed]",
      "text/plain": [
       "<Figure size 432x288 with 1 Axes>"
      ]
     },
     "metadata": {
      "needs_background": "light",
      "tags": []
     },
     "output_type": "display_data"
    }
   ],
   "source": [
    "rolling_windows(50, BSEdata).plot()"
   ]
  },
  {
   "cell_type": "markdown",
   "metadata": {
    "id": "Jyaxt2DqLv6U"
   },
   "source": [
    "# Creating the dummy time series:\n",
    "\n",
    "Volume shocks : we will be creating a 0/1 dummy-coded boolean time series for shock, based on whether volume traded is 10% higher/lower than previous day. ( 0/1 dummy-coding is for direction of shock)"
   ]
  },
  {
   "cell_type": "code",
   "execution_count": 60,
   "metadata": {
    "id": "TqSHqOVULOdf"
   },
   "outputs": [],
   "source": [
    "def boolean_shock(percent, df, col):\n",
    "  data = df.filter(['date', col], axis=1)\n",
    "  data.set_index('date', inplace=True)\n",
    "  data['percentchg'] = (data[col].pct_change()) * 100  #percentage change compare to previous volume using pct_change() function\n",
    "  data['shock'] = data['percentchg'].apply(lambda x: 1 if x >= percent else 0)\n",
    "  data.drop(col, axis = 1, inplace = True)\n",
    "  return data.dropna()"
   ]
  },
  {
   "cell_type": "code",
   "execution_count": 73,
   "metadata": {
    "colab": {
     "base_uri": "https://localhost:8080/",
     "height": 437
    },
    "id": "WhnlxHk7L5S3",
    "outputId": "c188b217-6c8a-44dd-958e-c09f0ca6bf05"
   },
   "outputs": [
    {
     "data": {
      "text/html": [
       "<div>\n",
       "<style scoped>\n",
       "    .dataframe tbody tr th:only-of-type {\n",
       "        vertical-align: middle;\n",
       "    }\n",
       "\n",
       "    .dataframe tbody tr th {\n",
       "        vertical-align: top;\n",
       "    }\n",
       "\n",
       "    .dataframe thead th {\n",
       "        text-align: right;\n",
       "    }\n",
       "</style>\n",
       "<table border=\"1\" class=\"dataframe\">\n",
       "  <thead>\n",
       "    <tr style=\"text-align: right;\">\n",
       "      <th></th>\n",
       "      <th>percentchg</th>\n",
       "      <th>shock</th>\n",
       "    </tr>\n",
       "    <tr>\n",
       "      <th>date</th>\n",
       "      <th></th>\n",
       "      <th></th>\n",
       "    </tr>\n",
       "  </thead>\n",
       "  <tbody>\n",
       "    <tr>\n",
       "      <th>2015-01-05</th>\n",
       "      <td>24.324324</td>\n",
       "      <td>1</td>\n",
       "    </tr>\n",
       "    <tr>\n",
       "      <th>2015-01-06</th>\n",
       "      <td>53.260870</td>\n",
       "      <td>1</td>\n",
       "    </tr>\n",
       "    <tr>\n",
       "      <th>2015-01-07</th>\n",
       "      <td>-13.475177</td>\n",
       "      <td>0</td>\n",
       "    </tr>\n",
       "    <tr>\n",
       "      <th>2015-01-08</th>\n",
       "      <td>-32.786885</td>\n",
       "      <td>0</td>\n",
       "    </tr>\n",
       "    <tr>\n",
       "      <th>2015-01-09</th>\n",
       "      <td>35.365854</td>\n",
       "      <td>1</td>\n",
       "    </tr>\n",
       "    <tr>\n",
       "      <th>...</th>\n",
       "      <td>...</td>\n",
       "      <td>...</td>\n",
       "    </tr>\n",
       "    <tr>\n",
       "      <th>2020-06-23</th>\n",
       "      <td>0.398406</td>\n",
       "      <td>0</td>\n",
       "    </tr>\n",
       "    <tr>\n",
       "      <th>2020-06-24</th>\n",
       "      <td>5.555556</td>\n",
       "      <td>0</td>\n",
       "    </tr>\n",
       "    <tr>\n",
       "      <th>2020-06-25</th>\n",
       "      <td>-7.518797</td>\n",
       "      <td>0</td>\n",
       "    </tr>\n",
       "    <tr>\n",
       "      <th>2020-06-26</th>\n",
       "      <td>0.813008</td>\n",
       "      <td>0</td>\n",
       "    </tr>\n",
       "    <tr>\n",
       "      <th>2020-06-29</th>\n",
       "      <td>-26.209677</td>\n",
       "      <td>0</td>\n",
       "    </tr>\n",
       "  </tbody>\n",
       "</table>\n",
       "<p>1344 rows × 2 columns</p>\n",
       "</div>"
      ],
      "text/plain": [
       "            percentchg  shock\n",
       "date                         \n",
       "2015-01-05   24.324324      1\n",
       "2015-01-06   53.260870      1\n",
       "2015-01-07  -13.475177      0\n",
       "2015-01-08  -32.786885      0\n",
       "2015-01-09   35.365854      1\n",
       "...                ...    ...\n",
       "2020-06-23    0.398406      0\n",
       "2020-06-24    5.555556      0\n",
       "2020-06-25   -7.518797      0\n",
       "2020-06-26    0.813008      0\n",
       "2020-06-29  -26.209677      0\n",
       "\n",
       "[1344 rows x 2 columns]"
      ]
     },
     "execution_count": 73,
     "metadata": {
      "tags": []
     },
     "output_type": "execute_result"
    }
   ],
   "source": [
    "boolean_shock(10, BSEdata, 'volume')"
   ]
  },
  {
   "cell_type": "code",
   "execution_count": 74,
   "metadata": {
    "colab": {
     "base_uri": "https://localhost:8080/",
     "height": 281
    },
    "id": "6Yhs87SsL8m6",
    "outputId": "bf06a219-777a-45cb-ca43-ff871b593640"
   },
   "outputs": [
    {
     "data": {
      "image/png": "[encoded data removed]",
      "text/plain": [
       "<Figure size 432x288 with 1 Axes>"
      ]
     },
     "metadata": {
      "needs_background": "light",
      "tags": []
     },
     "output_type": "display_data"
    }
   ],
   "source": [
    "volpercentchg_altdata = boolean_shock(10, BSEdata, 'volume')\n",
    "volpercentchg_altdata.reset_index(inplace=True)\n",
    "volpercentchg_altdata.rename(columns={list(volpercentchg_altdata)[0]:'date'}, inplace=True)\n",
    "\n",
    "alt.Chart(volpercentchg_altdata).mark_point().encode( x='date',y='percentchg')\n",
    "\n",
    "plotvolpercentchg = volpercentchg_altdata.filter(['date', 'percentchg'], axis=1) \n",
    "plotvolpercentchg.index = pd.Index(sm.tsa.datetools.dates_from_range('2015', length=len(volpercentchg_altdata['date']))) \n",
    "del plotvolpercentchg['date']\n",
    "sm.graphics.tsa.plot_pacf(plotvolpercentchg.values.squeeze())\n",
    "plt.show()"
   ]
  },
  {
   "cell_type": "markdown",
   "metadata": {
    "id": "zG1akBJdMRUk"
   },
   "source": [
    "## Pricing shock without volume shock\n"
   ]
  },
  {
   "cell_type": "code",
   "execution_count": 66,
   "metadata": {
    "id": "PgKkQswOMSEL"
   },
   "outputs": [],
   "source": [
    "def price_boolean_shock(percent, df):\n",
    "  df['date'] = pd.to_datetime(df['date'])\n",
    "  data = df.filter(['date', 'high', 'low','close'], axis=1) #df.copy()\n",
    "  data.set_index('date', inplace=True)\n",
    "  data['priceavg'] = (data['high'] + data['low'] + data['close']) / 3\n",
    "  data['shock'] = (data['priceavg'].pct_change()) * 100\n",
    "  data['shock'] = data['shock'].apply(lambda x: 1 if x >= percent else 0)\n",
    "  data.drop(['high', 'low', 'close'], axis = 1, inplace = True)\n",
    "  return data"
   ]
  },
  {
   "cell_type": "code",
   "execution_count": 71,
   "metadata": {
    "colab": {
     "base_uri": "https://localhost:8080/",
     "height": 437
    },
    "id": "h1iwI4OOMYJj",
    "outputId": "ae5b8ff6-8881-4717-d300-32cae3aa2940"
   },
   "outputs": [
    {
     "data": {
      "text/html": [
       "<div>\n",
       "<style scoped>\n",
       "    .dataframe tbody tr th:only-of-type {\n",
       "        vertical-align: middle;\n",
       "    }\n",
       "\n",
       "    .dataframe tbody tr th {\n",
       "        vertical-align: top;\n",
       "    }\n",
       "\n",
       "    .dataframe thead th {\n",
       "        text-align: right;\n",
       "    }\n",
       "</style>\n",
       "<table border=\"1\" class=\"dataframe\">\n",
       "  <thead>\n",
       "    <tr style=\"text-align: right;\">\n",
       "      <th></th>\n",
       "      <th>priceavg</th>\n",
       "      <th>shock</th>\n",
       "    </tr>\n",
       "    <tr>\n",
       "      <th>date</th>\n",
       "      <th></th>\n",
       "      <th></th>\n",
       "    </tr>\n",
       "  </thead>\n",
       "  <tbody>\n",
       "    <tr>\n",
       "      <th>2015-01-02</th>\n",
       "      <td>27781.543620</td>\n",
       "      <td>0</td>\n",
       "    </tr>\n",
       "    <tr>\n",
       "      <th>2015-01-05</th>\n",
       "      <td>27897.886719</td>\n",
       "      <td>0</td>\n",
       "    </tr>\n",
       "    <tr>\n",
       "      <th>2015-01-06</th>\n",
       "      <td>27207.817057</td>\n",
       "      <td>0</td>\n",
       "    </tr>\n",
       "    <tr>\n",
       "      <th>2015-01-07</th>\n",
       "      <td>26912.179688</td>\n",
       "      <td>0</td>\n",
       "    </tr>\n",
       "    <tr>\n",
       "      <th>2015-01-08</th>\n",
       "      <td>27231.020182</td>\n",
       "      <td>0</td>\n",
       "    </tr>\n",
       "    <tr>\n",
       "      <th>...</th>\n",
       "      <td>...</td>\n",
       "      <td>...</td>\n",
       "    </tr>\n",
       "    <tr>\n",
       "      <th>2020-06-23</th>\n",
       "      <td>35252.093750</td>\n",
       "      <td>0</td>\n",
       "    </tr>\n",
       "    <tr>\n",
       "      <th>2020-06-24</th>\n",
       "      <td>35123.486979</td>\n",
       "      <td>0</td>\n",
       "    </tr>\n",
       "    <tr>\n",
       "      <th>2020-06-25</th>\n",
       "      <td>34807.830729</td>\n",
       "      <td>0</td>\n",
       "    </tr>\n",
       "    <tr>\n",
       "      <th>2020-06-26</th>\n",
       "      <td>35112.162760</td>\n",
       "      <td>0</td>\n",
       "    </tr>\n",
       "    <tr>\n",
       "      <th>2020-06-29</th>\n",
       "      <td>34885.312500</td>\n",
       "      <td>0</td>\n",
       "    </tr>\n",
       "  </tbody>\n",
       "</table>\n",
       "<p>1345 rows × 2 columns</p>\n",
       "</div>"
      ],
      "text/plain": [
       "                priceavg  shock\n",
       "date                           \n",
       "2015-01-02  27781.543620      0\n",
       "2015-01-05  27897.886719      0\n",
       "2015-01-06  27207.817057      0\n",
       "2015-01-07  26912.179688      0\n",
       "2015-01-08  27231.020182      0\n",
       "...                  ...    ...\n",
       "2020-06-23  35252.093750      0\n",
       "2020-06-24  35123.486979      0\n",
       "2020-06-25  34807.830729      0\n",
       "2020-06-26  35112.162760      0\n",
       "2020-06-29  34885.312500      0\n",
       "\n",
       "[1345 rows x 2 columns]"
      ]
     },
     "execution_count": 71,
     "metadata": {
      "tags": []
     },
     "output_type": "execute_result"
    }
   ],
   "source": [
    "price_boolean_shock(50, BSEdata)"
   ]
  },
  {
   "cell_type": "code",
   "execution_count": 72,
   "metadata": {
    "colab": {
     "base_uri": "https://localhost:8080/",
     "height": 281
    },
    "id": "cZ9KSFlXMb_p",
    "outputId": "5a929901-5c86-4de2-8b9e-9326c3bd5148"
   },
   "outputs": [
    {
     "data": {
      "image/png": "[encoded data removed]",
      "text/plain": [
       "<Figure size 432x288 with 1 Axes>"
      ]
     },
     "metadata": {
      "needs_background": "light",
      "tags": []
     },
     "output_type": "display_data"
    }
   ],
   "source": [
    "pricepercentchg_altdata = price_boolean_shock(10, BSEdata)\n",
    "pricepercentchg_altdata.reset_index(inplace=True)\n",
    "pricepercentchg_altdata.rename(columns={list(pricepercentchg_altdata)[0]:'date'}, inplace=True)\n",
    "\n",
    "alt.Chart(pricepercentchg_altdata).mark_point().encode(\n",
    "    x='date',\n",
    "    y='priceavg'\n",
    ")\n",
    "pricepercentchg_plot = pricepercentchg_altdata.filter(['date', 'priceavg'], axis=1)\n",
    "pricepercentchg_plot.index = pd.Index(sm.tsa.datetools.dates_from_range('2015', length=len(pricepercentchg_altdata['date']))) \n",
    "del pricepercentchg_plot['date']\n",
    "sm.graphics.tsa.plot_pacf(pricepercentchg_plot.values.squeeze())\n",
    "plt.show()"
   ]
  },
  {
   "cell_type": "markdown",
   "metadata": {
    "id": "05vV9uYWMpIa"
   },
   "source": [
    "partial autocorrelations at lag values 0, 1, 2, 4, 6, 7, 8, 15, 16, 21, 22, 25, 26. And lag values 0, 1 represents a perfect positive correlation."
   ]
  },
  {
   "cell_type": "markdown",
   "metadata": {
    "id": "OUHNJ1GfMs-t"
   },
   "source": [
    "# ## Creating the reverse dummy time series:\n",
    "\n",
    "Price shocks : we will be creating a 0/1 dummy-coded boolean time series for shock, based on whether closing price at T vs T+1 has a difference > 2%. ( 0/1 dummy-coding is for direction of shock). This will be reverse of pct_change()"
   ]
  },
  {
   "cell_type": "code",
   "execution_count": 75,
   "metadata": {
    "id": "oFrtkuG5MqB_"
   },
   "outputs": [],
   "source": [
    "def reverse_boolean_shock(percent, df, col):\n",
    "  data = df.filter(['date', col], axis=1) #df.copy()\n",
    "  data.set_index('date', inplace=True)\n",
    "  data = data.reindex(index=data.index[::-1])\n",
    "  data['percentchg'] = (data[col].pct_change()) * 100\n",
    "  data['shock'] = data['percentchg'].apply(lambda x: 1 if x > percent else 0)\n",
    "  data.drop(col, axis = 1, inplace = True)\n",
    "  data = data.reindex(index=data.index[::-1])\n",
    "  return data.dropna()"
   ]
  },
  {
   "cell_type": "code",
   "execution_count": 77,
   "metadata": {
    "colab": {
     "base_uri": "https://localhost:8080/",
     "height": 437
    },
    "id": "t5Ge9gS0M1dH",
    "outputId": "7abd3f6e-bf73-4764-99b5-7040037c7251"
   },
   "outputs": [
    {
     "data": {
      "text/html": [
       "<div>\n",
       "<style scoped>\n",
       "    .dataframe tbody tr th:only-of-type {\n",
       "        vertical-align: middle;\n",
       "    }\n",
       "\n",
       "    .dataframe tbody tr th {\n",
       "        vertical-align: top;\n",
       "    }\n",
       "\n",
       "    .dataframe thead th {\n",
       "        text-align: right;\n",
       "    }\n",
       "</style>\n",
       "<table border=\"1\" class=\"dataframe\">\n",
       "  <thead>\n",
       "    <tr style=\"text-align: right;\">\n",
       "      <th></th>\n",
       "      <th>percentchg</th>\n",
       "      <th>shock</th>\n",
       "    </tr>\n",
       "    <tr>\n",
       "      <th>date</th>\n",
       "      <th></th>\n",
       "      <th></th>\n",
       "    </tr>\n",
       "  </thead>\n",
       "  <tbody>\n",
       "    <tr>\n",
       "      <th>2015-01-02</th>\n",
       "      <td>0.163708</td>\n",
       "      <td>0</td>\n",
       "    </tr>\n",
       "    <tr>\n",
       "      <th>2015-01-05</th>\n",
       "      <td>3.167617</td>\n",
       "      <td>1</td>\n",
       "    </tr>\n",
       "    <tr>\n",
       "      <th>2015-01-06</th>\n",
       "      <td>0.292249</td>\n",
       "      <td>0</td>\n",
       "    </tr>\n",
       "    <tr>\n",
       "      <th>2015-01-07</th>\n",
       "      <td>-1.341501</td>\n",
       "      <td>0</td>\n",
       "    </tr>\n",
       "    <tr>\n",
       "      <th>2015-01-08</th>\n",
       "      <td>-0.668903</td>\n",
       "      <td>0</td>\n",
       "    </tr>\n",
       "    <tr>\n",
       "      <th>...</th>\n",
       "      <td>...</td>\n",
       "      <td>...</td>\n",
       "    </tr>\n",
       "    <tr>\n",
       "      <th>2020-06-22</th>\n",
       "      <td>-1.465151</td>\n",
       "      <td>0</td>\n",
       "    </tr>\n",
       "    <tr>\n",
       "      <th>2020-06-23</th>\n",
       "      <td>1.610168</td>\n",
       "      <td>0</td>\n",
       "    </tr>\n",
       "    <tr>\n",
       "      <th>2020-06-24</th>\n",
       "      <td>0.077145</td>\n",
       "      <td>0</td>\n",
       "    </tr>\n",
       "    <tr>\n",
       "      <th>2020-06-25</th>\n",
       "      <td>-0.935900</td>\n",
       "      <td>0</td>\n",
       "    </tr>\n",
       "    <tr>\n",
       "      <th>2020-06-26</th>\n",
       "      <td>0.599945</td>\n",
       "      <td>0</td>\n",
       "    </tr>\n",
       "  </tbody>\n",
       "</table>\n",
       "<p>1344 rows × 2 columns</p>\n",
       "</div>"
      ],
      "text/plain": [
       "            percentchg  shock\n",
       "date                         \n",
       "2015-01-02    0.163708      0\n",
       "2015-01-05    3.167617      1\n",
       "2015-01-06    0.292249      0\n",
       "2015-01-07   -1.341501      0\n",
       "2015-01-08   -0.668903      0\n",
       "...                ...    ...\n",
       "2020-06-22   -1.465151      0\n",
       "2020-06-23    1.610168      0\n",
       "2020-06-24    0.077145      0\n",
       "2020-06-25   -0.935900      0\n",
       "2020-06-26    0.599945      0\n",
       "\n",
       "[1344 rows x 2 columns]"
      ]
     },
     "execution_count": 77,
     "metadata": {
      "tags": []
     },
     "output_type": "execute_result"
    }
   ],
   "source": [
    "reverse_boolean_shock(3, BSEdata, 'close')"
   ]
  },
  {
   "cell_type": "markdown",
   "metadata": {
    "id": "cneWfoR4NFZG"
   },
   "source": [
    "Pricing shock without volume shock : Now we will be creating a time series for pricing shock without volume shock based on whether price at T vs T+1 has a difference > 2%. ( 0/1 dummy-coding is for direction of shock). This will be reverse of pct_change()\n",
    "\n"
   ]
  },
  {
   "cell_type": "code",
   "execution_count": 78,
   "metadata": {
    "id": "6UgcNerfNF_e"
   },
   "outputs": [],
   "source": [
    "def price_reverse_boolean_shock(percent, df):\n",
    "  data = df.filter(['date', 'high', 'low','close'], axis=1) #df.copy()\n",
    "  data.set_index('date', inplace=True)\n",
    "  data = data.reindex(index=data.index[::-1])\n",
    "  data['reversepriceavg'] = (data['high'] + data['low'] + data['close']) / 3\n",
    "  data['shock'] = (data['reversepriceavg'].pct_change()) * 100\n",
    "  data['shock'] = data['shock'].apply(lambda x: 1 if x >= percent else 0)\n",
    "  data.drop(['high', 'low', 'close'], axis = 1, inplace = True)\n",
    "  data = data.reindex(index=data.index[::-1])\n",
    "  return data.dropna()"
   ]
  },
  {
   "cell_type": "code",
   "execution_count": 80,
   "metadata": {
    "colab": {
     "base_uri": "https://localhost:8080/",
     "height": 437
    },
    "id": "LjyGX7WiNoOv",
    "outputId": "9e04e8c3-408c-452f-846f-63712e0508a3"
   },
   "outputs": [
    {
     "data": {
      "text/html": [
       "<div>\n",
       "<style scoped>\n",
       "    .dataframe tbody tr th:only-of-type {\n",
       "        vertical-align: middle;\n",
       "    }\n",
       "\n",
       "    .dataframe tbody tr th {\n",
       "        vertical-align: top;\n",
       "    }\n",
       "\n",
       "    .dataframe thead th {\n",
       "        text-align: right;\n",
       "    }\n",
       "</style>\n",
       "<table border=\"1\" class=\"dataframe\">\n",
       "  <thead>\n",
       "    <tr style=\"text-align: right;\">\n",
       "      <th></th>\n",
       "      <th>reversepriceavg</th>\n",
       "      <th>shock</th>\n",
       "    </tr>\n",
       "    <tr>\n",
       "      <th>date</th>\n",
       "      <th></th>\n",
       "      <th></th>\n",
       "    </tr>\n",
       "  </thead>\n",
       "  <tbody>\n",
       "    <tr>\n",
       "      <th>2015-01-02</th>\n",
       "      <td>27781.543620</td>\n",
       "      <td>0</td>\n",
       "    </tr>\n",
       "    <tr>\n",
       "      <th>2015-01-05</th>\n",
       "      <td>27897.886719</td>\n",
       "      <td>0</td>\n",
       "    </tr>\n",
       "    <tr>\n",
       "      <th>2015-01-06</th>\n",
       "      <td>27207.817057</td>\n",
       "      <td>0</td>\n",
       "    </tr>\n",
       "    <tr>\n",
       "      <th>2015-01-07</th>\n",
       "      <td>26912.179688</td>\n",
       "      <td>0</td>\n",
       "    </tr>\n",
       "    <tr>\n",
       "      <th>2015-01-08</th>\n",
       "      <td>27231.020182</td>\n",
       "      <td>0</td>\n",
       "    </tr>\n",
       "    <tr>\n",
       "      <th>...</th>\n",
       "      <td>...</td>\n",
       "      <td>...</td>\n",
       "    </tr>\n",
       "    <tr>\n",
       "      <th>2020-06-23</th>\n",
       "      <td>35252.093750</td>\n",
       "      <td>0</td>\n",
       "    </tr>\n",
       "    <tr>\n",
       "      <th>2020-06-24</th>\n",
       "      <td>35123.486979</td>\n",
       "      <td>0</td>\n",
       "    </tr>\n",
       "    <tr>\n",
       "      <th>2020-06-25</th>\n",
       "      <td>34807.830729</td>\n",
       "      <td>0</td>\n",
       "    </tr>\n",
       "    <tr>\n",
       "      <th>2020-06-26</th>\n",
       "      <td>35112.162760</td>\n",
       "      <td>0</td>\n",
       "    </tr>\n",
       "    <tr>\n",
       "      <th>2020-06-29</th>\n",
       "      <td>34885.312500</td>\n",
       "      <td>0</td>\n",
       "    </tr>\n",
       "  </tbody>\n",
       "</table>\n",
       "<p>1345 rows × 2 columns</p>\n",
       "</div>"
      ],
      "text/plain": [
       "            reversepriceavg  shock\n",
       "date                              \n",
       "2015-01-02     27781.543620      0\n",
       "2015-01-05     27897.886719      0\n",
       "2015-01-06     27207.817057      0\n",
       "2015-01-07     26912.179688      0\n",
       "2015-01-08     27231.020182      0\n",
       "...                     ...    ...\n",
       "2020-06-23     35252.093750      0\n",
       "2020-06-24     35123.486979      0\n",
       "2020-06-25     34807.830729      0\n",
       "2020-06-26     35112.162760      0\n",
       "2020-06-29     34885.312500      0\n",
       "\n",
       "[1345 rows x 2 columns]"
      ]
     },
     "execution_count": 80,
     "metadata": {
      "tags": []
     },
     "output_type": "execute_result"
    }
   ],
   "source": [
    "price_reverse_boolean_shock(3, BSEdata)"
   ]
  },
  {
   "cell_type": "markdown",
   "metadata": {
    "id": "U5O4dS2xe-Kf"
   },
   "source": [
    "# Textual Analysis of news from Times of India News Headlines\n"
   ]
  },
  {
   "cell_type": "code",
   "execution_count": 106,
   "metadata": {
    "id": "ID8S7xdjZO1s"
   },
   "outputs": [],
   "source": [
    "news  = pd.read_csv('/content/drive/MyDrive/india-news-headlines.csv')"
   ]
  },
  {
   "cell_type": "code",
   "execution_count": 107,
   "metadata": {
    "colab": {
     "base_uri": "https://localhost:8080/",
     "height": 198
    },
    "id": "YDQPFBHsf98e",
    "outputId": "13a72584-0fbc-45d1-b01f-f09c5e8af9e8"
   },
   "outputs": [
    {
     "data": {
      "text/html": [
       "<div>\n",
       "<style scoped>\n",
       "    .dataframe tbody tr th:only-of-type {\n",
       "        vertical-align: middle;\n",
       "    }\n",
       "\n",
       "    .dataframe tbody tr th {\n",
       "        vertical-align: top;\n",
       "    }\n",
       "\n",
       "    .dataframe thead th {\n",
       "        text-align: right;\n",
       "    }\n",
       "</style>\n",
       "<table border=\"1\" class=\"dataframe\">\n",
       "  <thead>\n",
       "    <tr style=\"text-align: right;\">\n",
       "      <th></th>\n",
       "      <th>publish_date</th>\n",
       "      <th>headline_category</th>\n",
       "      <th>headline_text</th>\n",
       "    </tr>\n",
       "  </thead>\n",
       "  <tbody>\n",
       "    <tr>\n",
       "      <th>0</th>\n",
       "      <td>20010101</td>\n",
       "      <td>sports.wwe</td>\n",
       "      <td>win over cena satisfying but defeating underta...</td>\n",
       "    </tr>\n",
       "    <tr>\n",
       "      <th>1</th>\n",
       "      <td>20010102</td>\n",
       "      <td>unknown</td>\n",
       "      <td>Status quo will not be disturbed at Ayodhya; s...</td>\n",
       "    </tr>\n",
       "    <tr>\n",
       "      <th>2</th>\n",
       "      <td>20010102</td>\n",
       "      <td>unknown</td>\n",
       "      <td>Fissures in Hurriyat over Pak visit</td>\n",
       "    </tr>\n",
       "    <tr>\n",
       "      <th>3</th>\n",
       "      <td>20010102</td>\n",
       "      <td>unknown</td>\n",
       "      <td>America's unwanted heading for India?</td>\n",
       "    </tr>\n",
       "    <tr>\n",
       "      <th>4</th>\n",
       "      <td>20010102</td>\n",
       "      <td>unknown</td>\n",
       "      <td>For bigwigs; it is destination Goa</td>\n",
       "    </tr>\n",
       "  </tbody>\n",
       "</table>\n",
       "</div>"
      ],
      "text/plain": [
       "   publish_date  ...                                      headline_text\n",
       "0      20010101  ...  win over cena satisfying but defeating underta...\n",
       "1      20010102  ...  Status quo will not be disturbed at Ayodhya; s...\n",
       "2      20010102  ...                Fissures in Hurriyat over Pak visit\n",
       "3      20010102  ...              America's unwanted heading for India?\n",
       "4      20010102  ...                 For bigwigs; it is destination Goa\n",
       "\n",
       "[5 rows x 3 columns]"
      ]
     },
     "execution_count": 107,
     "metadata": {
      "tags": []
     },
     "output_type": "execute_result"
    }
   ],
   "source": [
    "news.head()"
   ]
  },
  {
   "cell_type": "code",
   "execution_count": 108,
   "metadata": {
    "colab": {
     "base_uri": "https://localhost:8080/"
    },
    "id": "yHvCmd_xk8W5",
    "outputId": "03349072-b576-4d44-9540-9927ebf233de"
   },
   "outputs": [
    {
     "data": {
      "text/plain": [
       "(3297172, 3)"
      ]
     },
     "execution_count": 108,
     "metadata": {
      "tags": []
     },
     "output_type": "execute_result"
    }
   ],
   "source": [
    "news.shape"
   ]
  },
  {
   "cell_type": "code",
   "execution_count": 109,
   "metadata": {
    "colab": {
     "base_uri": "https://localhost:8080/",
     "height": 198
    },
    "id": "lRDxMxUZgF9x",
    "outputId": "e15de744-bd6d-4de8-f541-f6770ced75f8"
   },
   "outputs": [
    {
     "data": {
      "text/html": [
       "<div>\n",
       "<style scoped>\n",
       "    .dataframe tbody tr th:only-of-type {\n",
       "        vertical-align: middle;\n",
       "    }\n",
       "\n",
       "    .dataframe tbody tr th {\n",
       "        vertical-align: top;\n",
       "    }\n",
       "\n",
       "    .dataframe thead th {\n",
       "        text-align: right;\n",
       "    }\n",
       "</style>\n",
       "<table border=\"1\" class=\"dataframe\">\n",
       "  <thead>\n",
       "    <tr style=\"text-align: right;\">\n",
       "      <th></th>\n",
       "      <th>publish_date</th>\n",
       "      <th>headline_category</th>\n",
       "      <th>headline_text</th>\n",
       "    </tr>\n",
       "  </thead>\n",
       "  <tbody>\n",
       "    <tr>\n",
       "      <th>0</th>\n",
       "      <td>2001-01-01</td>\n",
       "      <td>sports.wwe</td>\n",
       "      <td>win over cena satisfying but defeating underta...</td>\n",
       "    </tr>\n",
       "    <tr>\n",
       "      <th>1</th>\n",
       "      <td>2001-01-02</td>\n",
       "      <td>unknown</td>\n",
       "      <td>Status quo will not be disturbed at Ayodhya; s...</td>\n",
       "    </tr>\n",
       "    <tr>\n",
       "      <th>2</th>\n",
       "      <td>2001-01-02</td>\n",
       "      <td>unknown</td>\n",
       "      <td>Fissures in Hurriyat over Pak visit</td>\n",
       "    </tr>\n",
       "    <tr>\n",
       "      <th>3</th>\n",
       "      <td>2001-01-02</td>\n",
       "      <td>unknown</td>\n",
       "      <td>America's unwanted heading for India?</td>\n",
       "    </tr>\n",
       "    <tr>\n",
       "      <th>4</th>\n",
       "      <td>2001-01-02</td>\n",
       "      <td>unknown</td>\n",
       "      <td>For bigwigs; it is destination Goa</td>\n",
       "    </tr>\n",
       "  </tbody>\n",
       "</table>\n",
       "</div>"
      ],
      "text/plain": [
       "  publish_date  ...                                      headline_text\n",
       "0   2001-01-01  ...  win over cena satisfying but defeating underta...\n",
       "1   2001-01-02  ...  Status quo will not be disturbed at Ayodhya; s...\n",
       "2   2001-01-02  ...                Fissures in Hurriyat over Pak visit\n",
       "3   2001-01-02  ...              America's unwanted heading for India?\n",
       "4   2001-01-02  ...                 For bigwigs; it is destination Goa\n",
       "\n",
       "[5 rows x 3 columns]"
      ]
     },
     "execution_count": 109,
     "metadata": {
      "tags": []
     },
     "output_type": "execute_result"
    }
   ],
   "source": [
    "news['publish_date'] = pd.to_datetime(news['publish_date'], format = '%Y%m%d')\n",
    "news.head()"
   ]
  },
  {
   "cell_type": "code",
   "execution_count": 110,
   "metadata": {
    "colab": {
     "base_uri": "https://localhost:8080/"
    },
    "id": "q7m2t1X5gdw1",
    "outputId": "22794cf1-caa8-4012-eb20-cdec2a0478b7"
   },
   "outputs": [
    {
     "name": "stdout",
     "output_type": "stream",
     "text": [
      "<class 'pandas.core.frame.DataFrame'>\n",
      "RangeIndex: 3297172 entries, 0 to 3297171\n",
      "Data columns (total 3 columns):\n",
      " #   Column             Dtype         \n",
      "---  ------             -----         \n",
      " 0   publish_date       datetime64[ns]\n",
      " 1   headline_category  object        \n",
      " 2   headline_text      object        \n",
      "dtypes: datetime64[ns](1), object(2)\n",
      "memory usage: 75.5+ MB\n"
     ]
    }
   ],
   "source": [
    "news.info()"
   ]
  },
  {
   "cell_type": "code",
   "execution_count": 111,
   "metadata": {
    "colab": {
     "base_uri": "https://localhost:8080/"
    },
    "id": "UAXDbmHjgi8V",
    "outputId": "f62797ad-f47e-4435-eb9e-6ab7f90c81d2"
   },
   "outputs": [
    {
     "data": {
      "text/plain": [
       "1016"
      ]
     },
     "execution_count": 111,
     "metadata": {
      "tags": []
     },
     "output_type": "execute_result"
    }
   ],
   "source": [
    "news['headline_category'].value_counts().count()"
   ]
  },
  {
   "cell_type": "code",
   "execution_count": 112,
   "metadata": {
    "colab": {
     "base_uri": "https://localhost:8080/"
    },
    "id": "5RXMAEengvti",
    "outputId": "cc4929e4-5098-4bd6-b605-95a4dc6e7a5a"
   },
   "outputs": [
    {
     "data": {
      "text/plain": [
       "array(['sports.wwe', 'unknown', 'entertainment.hindi.bollywood', ...,\n",
       "       'elections.assembly-elections.delhi-assembly-elections',\n",
       "       'elections.assembly-elections.delhi', 'life-style.coronavirus'],\n",
       "      dtype=object)"
      ]
     },
     "execution_count": 112,
     "metadata": {
      "tags": []
     },
     "output_type": "execute_result"
    }
   ],
   "source": [
    "news['headline_category'].unique()"
   ]
  },
  {
   "cell_type": "code",
   "execution_count": 113,
   "metadata": {
    "colab": {
     "base_uri": "https://localhost:8080/"
    },
    "id": "9-VI8eCTlllC",
    "outputId": "38b8c678-4a39-4b20-bf84-b316fb9fd992"
   },
   "outputs": [
    {
     "data": {
      "text/plain": [
       "india                      285619\n",
       "unknown                    207732\n",
       "city.mumbai                132649\n",
       "city.delhi                 124658\n",
       "business.india-business    115246\n",
       "                            ...  \n",
       "delhi-ncr                       7\n",
       "ballot-talk                     7\n",
       "did-you-know                    6\n",
       "sports.headline6                3\n",
       "party-manifestos                2\n",
       "Name: headline_category, Length: 1016, dtype: int64"
      ]
     },
     "execution_count": 113,
     "metadata": {
      "tags": []
     },
     "output_type": "execute_result"
    }
   ],
   "source": [
    "news['headline_category'].value_counts()"
   ]
  },
  {
   "cell_type": "code",
   "execution_count": 115,
   "metadata": {
    "colab": {
     "base_uri": "https://localhost:8080/"
    },
    "id": "i510_D2nlqOu",
    "outputId": "d17480be-9039-4a3b-bf7c-692f81cc950a"
   },
   "outputs": [
    {
     "data": {
      "text/plain": [
       "Sunny Leone HOT photos                                  98\n",
       "Watch top news in one-minute                            90\n",
       "Official Site                                           89\n",
       "Football: Italian Serie A table                         88\n",
       "Football: Spanish La Liga table                         86\n",
       "                                                        ..\n",
       "Sherlyn's the new water baby!                            1\n",
       "6 Haryana girls in world schools soccer championship     1\n",
       "I was shocked: Rakshitha                                 1\n",
       "Advani promises Delhi statehood Bill                     1\n",
       "4 years on; locks still on new school building           1\n",
       "Name: headline_text, Length: 3082589, dtype: int64"
      ]
     },
     "execution_count": 115,
     "metadata": {
      "tags": []
     },
     "output_type": "execute_result"
    }
   ],
   "source": [
    "news['headline_text'].value_counts()"
   ]
  },
  {
   "cell_type": "code",
   "execution_count": 114,
   "metadata": {
    "colab": {
     "base_uri": "https://localhost:8080/"
    },
    "id": "durU1Bo-g3pp",
    "outputId": "db858c30-771d-4385-ac31-ba2fd8eec78d"
   },
   "outputs": [
    {
     "data": {
      "text/plain": [
       "3082589"
      ]
     },
     "execution_count": 114,
     "metadata": {
      "tags": []
     },
     "output_type": "execute_result"
    }
   ],
   "source": [
    "news['headline_text'].value_counts().count()"
   ]
  },
  {
   "cell_type": "code",
   "execution_count": 117,
   "metadata": {
    "colab": {
     "base_uri": "https://localhost:8080/"
    },
    "id": "kyave-f_hRRJ",
    "outputId": "e9345e6c-5451-4aa4-9cb6-cbce10d9975e"
   },
   "outputs": [
    {
     "data": {
      "text/plain": [
       "41638"
      ]
     },
     "execution_count": 117,
     "metadata": {
      "tags": []
     },
     "output_type": "execute_result"
    }
   ],
   "source": [
    "#finding duplicate values\n",
    "news.duplicated(keep=False).sum()"
   ]
  },
  {
   "cell_type": "code",
   "execution_count": 118,
   "metadata": {
    "id": "Xug1ajw_mdX5"
   },
   "outputs": [],
   "source": [
    "#sorting the dataset to delete the duplicates.The sorted dataset index values are also changed\n",
    "cols = list(news.columns)\n",
    "news.sort_values(by=cols, inplace=True, ignore_index=True)"
   ]
  },
  {
   "cell_type": "code",
   "execution_count": 119,
   "metadata": {
    "colab": {
     "base_uri": "https://localhost:8080/",
     "height": 348
    },
    "id": "rX7KIQq3mrPP",
    "outputId": "200fc8c6-7d5e-45a7-b8af-c3c06f4dfa3f"
   },
   "outputs": [
    {
     "data": {
      "text/html": [
       "<div>\n",
       "<style scoped>\n",
       "    .dataframe tbody tr th:only-of-type {\n",
       "        vertical-align: middle;\n",
       "    }\n",
       "\n",
       "    .dataframe tbody tr th {\n",
       "        vertical-align: top;\n",
       "    }\n",
       "\n",
       "    .dataframe thead th {\n",
       "        text-align: right;\n",
       "    }\n",
       "</style>\n",
       "<table border=\"1\" class=\"dataframe\">\n",
       "  <thead>\n",
       "    <tr style=\"text-align: right;\">\n",
       "      <th></th>\n",
       "      <th>publish_date</th>\n",
       "      <th>headline_category</th>\n",
       "      <th>headline_text</th>\n",
       "    </tr>\n",
       "  </thead>\n",
       "  <tbody>\n",
       "    <tr>\n",
       "      <th>4</th>\n",
       "      <td>2001-01-02</td>\n",
       "      <td>unknown</td>\n",
       "      <td>America's unwanted heading for India?</td>\n",
       "    </tr>\n",
       "    <tr>\n",
       "      <th>5</th>\n",
       "      <td>2001-01-02</td>\n",
       "      <td>unknown</td>\n",
       "      <td>America's unwanted heading for India?</td>\n",
       "    </tr>\n",
       "    <tr>\n",
       "      <th>6</th>\n",
       "      <td>2001-01-02</td>\n",
       "      <td>unknown</td>\n",
       "      <td>America's unwanted heading for India?</td>\n",
       "    </tr>\n",
       "    <tr>\n",
       "      <th>7</th>\n",
       "      <td>2001-01-02</td>\n",
       "      <td>unknown</td>\n",
       "      <td>America's unwanted heading for India?</td>\n",
       "    </tr>\n",
       "    <tr>\n",
       "      <th>10</th>\n",
       "      <td>2001-01-02</td>\n",
       "      <td>unknown</td>\n",
       "      <td>BBC's reality TV will focus on AIIMS</td>\n",
       "    </tr>\n",
       "    <tr>\n",
       "      <th>11</th>\n",
       "      <td>2001-01-02</td>\n",
       "      <td>unknown</td>\n",
       "      <td>BBC's reality TV will focus on AIIMS</td>\n",
       "    </tr>\n",
       "    <tr>\n",
       "      <th>12</th>\n",
       "      <td>2001-01-02</td>\n",
       "      <td>unknown</td>\n",
       "      <td>BJP jumps into rail track conversion issue</td>\n",
       "    </tr>\n",
       "    <tr>\n",
       "      <th>13</th>\n",
       "      <td>2001-01-02</td>\n",
       "      <td>unknown</td>\n",
       "      <td>BJP jumps into rail track conversion issue</td>\n",
       "    </tr>\n",
       "    <tr>\n",
       "      <th>21</th>\n",
       "      <td>2001-01-02</td>\n",
       "      <td>unknown</td>\n",
       "      <td>Dilute the power of transfers; says Riberio</td>\n",
       "    </tr>\n",
       "    <tr>\n",
       "      <th>22</th>\n",
       "      <td>2001-01-02</td>\n",
       "      <td>unknown</td>\n",
       "      <td>Dilute the power of transfers; says Riberio</td>\n",
       "    </tr>\n",
       "  </tbody>\n",
       "</table>\n",
       "</div>"
      ],
      "text/plain": [
       "   publish_date headline_category                                headline_text\n",
       "4    2001-01-02           unknown        America's unwanted heading for India?\n",
       "5    2001-01-02           unknown        America's unwanted heading for India?\n",
       "6    2001-01-02           unknown        America's unwanted heading for India?\n",
       "7    2001-01-02           unknown        America's unwanted heading for India?\n",
       "10   2001-01-02           unknown         BBC's reality TV will focus on AIIMS\n",
       "11   2001-01-02           unknown         BBC's reality TV will focus on AIIMS\n",
       "12   2001-01-02           unknown   BJP jumps into rail track conversion issue\n",
       "13   2001-01-02           unknown   BJP jumps into rail track conversion issue\n",
       "21   2001-01-02           unknown  Dilute the power of transfers; says Riberio\n",
       "22   2001-01-02           unknown  Dilute the power of transfers; says Riberio"
      ]
     },
     "execution_count": 119,
     "metadata": {
      "tags": []
     },
     "output_type": "execute_result"
    }
   ],
   "source": [
    "news[news.duplicated(keep=False)][:10]"
   ]
  },
  {
   "cell_type": "code",
   "execution_count": 120,
   "metadata": {
    "colab": {
     "base_uri": "https://localhost:8080/"
    },
    "id": "aMj_Oiltm1P0",
    "outputId": "ab2f3bcf-c310-42c3-bd29-901904882563"
   },
   "outputs": [
    {
     "data": {
      "text/plain": [
       "0"
      ]
     },
     "execution_count": 120,
     "metadata": {
      "tags": []
     },
     "output_type": "execute_result"
    }
   ],
   "source": [
    "#dropping the duplicates only keeping the last value of dublicates\n",
    "news.drop_duplicates(keep='last', inplace=True, ignore_index=True)\n",
    "news.duplicated().sum()"
   ]
  },
  {
   "cell_type": "code",
   "execution_count": 121,
   "metadata": {
    "id": "GHKWYW8mjDZ0"
   },
   "outputs": [],
   "source": [
    "from textblob import TextBlob\n",
    "\n",
    "unique_dates = news['publish_date'].value_counts().index.tolist()\n",
    "\n",
    "#concatenating all the headline_text column values of same date in publish_date column\n",
    "new = []\n",
    "for x in unique_dates:\n",
    "  df = news.loc[news['publish_date'] == x]\n",
    "  headlinetext = ''\n",
    "  publishdate = str(x)\n",
    "  headlinetext = df['headline_text'].iloc[0]\n",
    "  for i in range(1 , len(df)):\n",
    "    headlinetext = headlinetext + '. '+ df['headline_text'].iloc[i]  \n",
    "  new.append(headlinetext)"
   ]
  },
  {
   "cell_type": "code",
   "execution_count": 122,
   "metadata": {
    "colab": {
     "base_uri": "https://localhost:8080/",
     "height": 198
    },
    "id": "nr5t4-8xjd3A",
    "outputId": "82bc9a4d-09fc-4963-8f75-392876464cbd"
   },
   "outputs": [
    {
     "data": {
      "text/html": [
       "<div>\n",
       "<style scoped>\n",
       "    .dataframe tbody tr th:only-of-type {\n",
       "        vertical-align: middle;\n",
       "    }\n",
       "\n",
       "    .dataframe tbody tr th {\n",
       "        vertical-align: top;\n",
       "    }\n",
       "\n",
       "    .dataframe thead th {\n",
       "        text-align: right;\n",
       "    }\n",
       "</style>\n",
       "<table border=\"1\" class=\"dataframe\">\n",
       "  <thead>\n",
       "    <tr style=\"text-align: right;\">\n",
       "      <th></th>\n",
       "      <th>publish_date</th>\n",
       "      <th>headline_text</th>\n",
       "    </tr>\n",
       "  </thead>\n",
       "  <tbody>\n",
       "    <tr>\n",
       "      <th>0</th>\n",
       "      <td>2018-07-31</td>\n",
       "      <td>Harley Davidson plans smaller bike with eye on...</td>\n",
       "    </tr>\n",
       "    <tr>\n",
       "      <th>1</th>\n",
       "      <td>2018-12-31</td>\n",
       "      <td>Court extends detention for Nissan ex-chair Gh...</td>\n",
       "    </tr>\n",
       "    <tr>\n",
       "      <th>2</th>\n",
       "      <td>2018-12-30</td>\n",
       "      <td>expect to nearly treble sales in india in 2019...</td>\n",
       "    </tr>\n",
       "    <tr>\n",
       "      <th>3</th>\n",
       "      <td>2014-12-31</td>\n",
       "      <td>Exclusive! BMW i8 India launch in February 201...</td>\n",
       "    </tr>\n",
       "    <tr>\n",
       "      <th>4</th>\n",
       "      <td>2017-12-31</td>\n",
       "      <td>53k casual jobs lost in Jan-Mar;overall employ...</td>\n",
       "    </tr>\n",
       "  </tbody>\n",
       "</table>\n",
       "</div>"
      ],
      "text/plain": [
       "  publish_date                                      headline_text\n",
       "0   2018-07-31  Harley Davidson plans smaller bike with eye on...\n",
       "1   2018-12-31  Court extends detention for Nissan ex-chair Gh...\n",
       "2   2018-12-30  expect to nearly treble sales in india in 2019...\n",
       "3   2014-12-31  Exclusive! BMW i8 India launch in February 201...\n",
       "4   2017-12-31  53k casual jobs lost in Jan-Mar;overall employ..."
      ]
     },
     "execution_count": 122,
     "metadata": {
      "tags": []
     },
     "output_type": "execute_result"
    }
   ],
   "source": [
    "#creating a new dataset\n",
    "newsdf = pd.DataFrame({'publish_date': unique_dates, 'headline_text' : new})\n",
    "newsdf.head()"
   ]
  },
  {
   "cell_type": "code",
   "execution_count": 123,
   "metadata": {
    "colab": {
     "base_uri": "https://localhost:8080/",
     "height": 198
    },
    "id": "PrmPyNIEks-g",
    "outputId": "c4d52ae3-c2b5-4519-d93e-1a5e7096145a"
   },
   "outputs": [
    {
     "data": {
      "text/html": [
       "<div>\n",
       "<style scoped>\n",
       "    .dataframe tbody tr th:only-of-type {\n",
       "        vertical-align: middle;\n",
       "    }\n",
       "\n",
       "    .dataframe tbody tr th {\n",
       "        vertical-align: top;\n",
       "    }\n",
       "\n",
       "    .dataframe thead th {\n",
       "        text-align: right;\n",
       "    }\n",
       "</style>\n",
       "<table border=\"1\" class=\"dataframe\">\n",
       "  <thead>\n",
       "    <tr style=\"text-align: right;\">\n",
       "      <th></th>\n",
       "      <th>publish_date</th>\n",
       "      <th>headline_text</th>\n",
       "    </tr>\n",
       "  </thead>\n",
       "  <tbody>\n",
       "    <tr>\n",
       "      <th>0</th>\n",
       "      <td>2001-01-01</td>\n",
       "      <td>win over cena satisfying but defeating underta...</td>\n",
       "    </tr>\n",
       "    <tr>\n",
       "      <th>1</th>\n",
       "      <td>2001-01-02</td>\n",
       "      <td>Raju Chacha. A noisy effort to spruce up Comme...</td>\n",
       "    </tr>\n",
       "    <tr>\n",
       "      <th>2</th>\n",
       "      <td>2001-01-03</td>\n",
       "      <td>'Devdas': Jinxed?. 10-year-old girl missing. 3...</td>\n",
       "    </tr>\n",
       "    <tr>\n",
       "      <th>3</th>\n",
       "      <td>2001-01-04</td>\n",
       "      <td>Car dealers caught in Bihar sales tax ruling. ...</td>\n",
       "    </tr>\n",
       "    <tr>\n",
       "      <th>4</th>\n",
       "      <td>2001-01-05</td>\n",
       "      <td>Nepal won't allow anti-India activities: Envoy...</td>\n",
       "    </tr>\n",
       "  </tbody>\n",
       "</table>\n",
       "</div>"
      ],
      "text/plain": [
       "  publish_date                                      headline_text\n",
       "0   2001-01-01  win over cena satisfying but defeating underta...\n",
       "1   2001-01-02  Raju Chacha. A noisy effort to spruce up Comme...\n",
       "2   2001-01-03  'Devdas': Jinxed?. 10-year-old girl missing. 3...\n",
       "3   2001-01-04  Car dealers caught in Bihar sales tax ruling. ...\n",
       "4   2001-01-05  Nepal won't allow anti-India activities: Envoy..."
      ]
     },
     "execution_count": 123,
     "metadata": {
      "tags": []
     },
     "output_type": "execute_result"
    }
   ],
   "source": [
    "#sorting the dataset based on dates\n",
    "newsdf.sort_values(by='publish_date', inplace=True, ignore_index=True)\n",
    "newsdf.head()"
   ]
  },
  {
   "cell_type": "code",
   "execution_count": 124,
   "metadata": {
    "colab": {
     "base_uri": "https://localhost:8080/"
    },
    "id": "1I_7k0AEn9pw",
    "outputId": "35c7bb84-1b37-489a-f791-44d94adacad5"
   },
   "outputs": [
    {
     "name": "stdout",
     "output_type": "stream",
     "text": [
      "<class 'pandas.core.frame.DataFrame'>\n",
      "RangeIndex: 7080 entries, 0 to 7079\n",
      "Data columns (total 2 columns):\n",
      " #   Column         Non-Null Count  Dtype         \n",
      "---  ------         --------------  -----         \n",
      " 0   publish_date   7080 non-null   datetime64[ns]\n",
      " 1   headline_text  7080 non-null   object        \n",
      "dtypes: datetime64[ns](1), object(1)\n",
      "memory usage: 110.8+ KB\n"
     ]
    }
   ],
   "source": [
    "newsdf.info()"
   ]
  },
  {
   "cell_type": "markdown",
   "metadata": {
    "id": "Uipw6ExjoX5e"
   },
   "source": [
    "We  are calculating the sentiment using TextBlob. \n",
    "\n",
    ">Based on the polarity, we determine whether it is a positive text or negative or neutral. For TextBlog, if the polarity is more than 0, it is considered positive, if it is less than 0 then it is considered negative and if it ia=s equal to 0 is considered neutral. \n",
    "\n",
    ">Subjectivity quantifies the amount of personal opinion and factual information contained in the text. The higher subjectivity means that the text contains personal opinion rather than factual information. "
   ]
  },
  {
   "cell_type": "code",
   "execution_count": 125,
   "metadata": {
    "id": "4FWE0ykroTYs"
   },
   "outputs": [],
   "source": [
    "polarity = []\n",
    "subjectivity = []\n",
    "for idx, row in newsdf.iterrows():\n",
    "  polarity.append(TextBlob(row['headline_text']).sentiment[0])\n",
    "  subjectivity.append(TextBlob(row['headline_text']).sentiment[1])"
   ]
  },
  {
   "cell_type": "code",
   "execution_count": 126,
   "metadata": {
    "colab": {
     "base_uri": "https://localhost:8080/",
     "height": 198
    },
    "id": "xsncjDfqotJu",
    "outputId": "07454489-676d-44e2-eeaf-9e037b6017d4"
   },
   "outputs": [
    {
     "data": {
      "text/html": [
       "<div>\n",
       "<style scoped>\n",
       "    .dataframe tbody tr th:only-of-type {\n",
       "        vertical-align: middle;\n",
       "    }\n",
       "\n",
       "    .dataframe tbody tr th {\n",
       "        vertical-align: top;\n",
       "    }\n",
       "\n",
       "    .dataframe thead th {\n",
       "        text-align: right;\n",
       "    }\n",
       "</style>\n",
       "<table border=\"1\" class=\"dataframe\">\n",
       "  <thead>\n",
       "    <tr style=\"text-align: right;\">\n",
       "      <th></th>\n",
       "      <th>publish_date</th>\n",
       "      <th>headline_text</th>\n",
       "      <th>polarity</th>\n",
       "      <th>subjectivity</th>\n",
       "    </tr>\n",
       "  </thead>\n",
       "  <tbody>\n",
       "    <tr>\n",
       "      <th>0</th>\n",
       "      <td>2001-01-01</td>\n",
       "      <td>win over cena satisfying but defeating underta...</td>\n",
       "      <td>0.433333</td>\n",
       "      <td>0.633333</td>\n",
       "    </tr>\n",
       "    <tr>\n",
       "      <th>1</th>\n",
       "      <td>2001-01-02</td>\n",
       "      <td>Raju Chacha. A noisy effort to spruce up Comme...</td>\n",
       "      <td>0.193519</td>\n",
       "      <td>0.293056</td>\n",
       "    </tr>\n",
       "    <tr>\n",
       "      <th>2</th>\n",
       "      <td>2001-01-03</td>\n",
       "      <td>'Devdas': Jinxed?. 10-year-old girl missing. 3...</td>\n",
       "      <td>0.088462</td>\n",
       "      <td>0.407692</td>\n",
       "    </tr>\n",
       "    <tr>\n",
       "      <th>3</th>\n",
       "      <td>2001-01-04</td>\n",
       "      <td>Car dealers caught in Bihar sales tax ruling. ...</td>\n",
       "      <td>0.091426</td>\n",
       "      <td>0.481895</td>\n",
       "    </tr>\n",
       "    <tr>\n",
       "      <th>4</th>\n",
       "      <td>2001-01-05</td>\n",
       "      <td>Nepal won't allow anti-India activities: Envoy...</td>\n",
       "      <td>0.257415</td>\n",
       "      <td>0.465542</td>\n",
       "    </tr>\n",
       "  </tbody>\n",
       "</table>\n",
       "</div>"
      ],
      "text/plain": [
       "  publish_date  ... subjectivity\n",
       "0   2001-01-01  ...     0.633333\n",
       "1   2001-01-02  ...     0.293056\n",
       "2   2001-01-03  ...     0.407692\n",
       "3   2001-01-04  ...     0.481895\n",
       "4   2001-01-05  ...     0.465542\n",
       "\n",
       "[5 rows x 4 columns]"
      ]
     },
     "execution_count": 126,
     "metadata": {
      "tags": []
     },
     "output_type": "execute_result"
    }
   ],
   "source": [
    "# Addingn the polatity and subjectivity columns in our newsdf\n",
    "newsdf['polarity'] = polarity\n",
    "newsdf['subjectivity'] = subjectivity\n",
    "newsdf.head()"
   ]
  },
  {
   "cell_type": "code",
   "execution_count": 127,
   "metadata": {
    "colab": {
     "base_uri": "https://localhost:8080/"
    },
    "id": "xj7ew4gtpBQZ",
    "outputId": "4fd993a8-4331-4331-ed22-8e8ddad3343c"
   },
   "outputs": [
    {
     "data": {
      "text/plain": [
       "(7080, 3)"
      ]
     },
     "execution_count": 127,
     "metadata": {
      "tags": []
     },
     "output_type": "execute_result"
    }
   ],
   "source": [
    "#renameing the publish_date to date so it will help us during joining this dataset with bse_data dataset\n",
    "newsdf.rename(columns={'publish_date': 'date'}, inplace = True)\n",
    "#selecting required columns\n",
    "newsdf = newsdf.filter(['date', 'polarity', 'subjectivity'], axis=1)\n",
    "newsdf.shape"
   ]
  },
  {
   "cell_type": "code",
   "execution_count": 128,
   "metadata": {
    "colab": {
     "base_uri": "https://localhost:8080/"
    },
    "id": "_FEOTKg8pBMn",
    "outputId": "bc58f98a-f917-4430-917b-5f735f857b00"
   },
   "outputs": [
    {
     "data": {
      "text/plain": [
       "(1345, 8)"
      ]
     },
     "execution_count": 128,
     "metadata": {
      "tags": []
     },
     "output_type": "execute_result"
    }
   ],
   "source": [
    "BSEdata.shape"
   ]
  },
  {
   "cell_type": "code",
   "execution_count": 130,
   "metadata": {
    "colab": {
     "base_uri": "https://localhost:8080/",
     "height": 198
    },
    "id": "FSbP_SpmpVPA",
    "outputId": "010650e6-041b-44bf-89a1-4963d33d3d1d"
   },
   "outputs": [
    {
     "data": {
      "text/html": [
       "<div>\n",
       "<style scoped>\n",
       "    .dataframe tbody tr th:only-of-type {\n",
       "        vertical-align: middle;\n",
       "    }\n",
       "\n",
       "    .dataframe tbody tr th {\n",
       "        vertical-align: top;\n",
       "    }\n",
       "\n",
       "    .dataframe thead th {\n",
       "        text-align: right;\n",
       "    }\n",
       "</style>\n",
       "<table border=\"1\" class=\"dataframe\">\n",
       "  <thead>\n",
       "    <tr style=\"text-align: right;\">\n",
       "      <th></th>\n",
       "      <th>index</th>\n",
       "      <th>date</th>\n",
       "      <th>open</th>\n",
       "      <th>high</th>\n",
       "      <th>low</th>\n",
       "      <th>close</th>\n",
       "      <th>adjclose</th>\n",
       "      <th>volume</th>\n",
       "      <th>polarity</th>\n",
       "      <th>subjectivity</th>\n",
       "    </tr>\n",
       "  </thead>\n",
       "  <tbody>\n",
       "    <tr>\n",
       "      <th>0</th>\n",
       "      <td>0</td>\n",
       "      <td>2015-01-02</td>\n",
       "      <td>27521.279297</td>\n",
       "      <td>27937.470703</td>\n",
       "      <td>27519.259766</td>\n",
       "      <td>27887.900391</td>\n",
       "      <td>27887.900391</td>\n",
       "      <td>7400</td>\n",
       "      <td>0.055586</td>\n",
       "      <td>0.455251</td>\n",
       "    </tr>\n",
       "    <tr>\n",
       "      <th>1</th>\n",
       "      <td>1</td>\n",
       "      <td>2015-01-05</td>\n",
       "      <td>27978.429688</td>\n",
       "      <td>28064.490234</td>\n",
       "      <td>27786.849609</td>\n",
       "      <td>27842.320312</td>\n",
       "      <td>27842.320312</td>\n",
       "      <td>9200</td>\n",
       "      <td>0.100081</td>\n",
       "      <td>0.433132</td>\n",
       "    </tr>\n",
       "    <tr>\n",
       "      <th>2</th>\n",
       "      <td>2</td>\n",
       "      <td>2015-01-06</td>\n",
       "      <td>27694.230469</td>\n",
       "      <td>27698.929688</td>\n",
       "      <td>26937.060547</td>\n",
       "      <td>26987.460938</td>\n",
       "      <td>26987.460938</td>\n",
       "      <td>14100</td>\n",
       "      <td>0.055802</td>\n",
       "      <td>0.386579</td>\n",
       "    </tr>\n",
       "    <tr>\n",
       "      <th>3</th>\n",
       "      <td>3</td>\n",
       "      <td>2015-01-07</td>\n",
       "      <td>26983.429688</td>\n",
       "      <td>27051.599609</td>\n",
       "      <td>26776.119141</td>\n",
       "      <td>26908.820312</td>\n",
       "      <td>26908.820312</td>\n",
       "      <td>12200</td>\n",
       "      <td>0.034707</td>\n",
       "      <td>0.386916</td>\n",
       "    </tr>\n",
       "    <tr>\n",
       "      <th>4</th>\n",
       "      <td>4</td>\n",
       "      <td>2015-01-08</td>\n",
       "      <td>27178.769531</td>\n",
       "      <td>27316.410156</td>\n",
       "      <td>27101.939453</td>\n",
       "      <td>27274.710938</td>\n",
       "      <td>27274.710938</td>\n",
       "      <td>8200</td>\n",
       "      <td>0.060173</td>\n",
       "      <td>0.408416</td>\n",
       "    </tr>\n",
       "  </tbody>\n",
       "</table>\n",
       "</div>"
      ],
      "text/plain": [
       "   index       date          open  ...  volume  polarity  subjectivity\n",
       "0      0 2015-01-02  27521.279297  ...    7400  0.055586      0.455251\n",
       "1      1 2015-01-05  27978.429688  ...    9200  0.100081      0.433132\n",
       "2      2 2015-01-06  27694.230469  ...   14100  0.055802      0.386579\n",
       "3      3 2015-01-07  26983.429688  ...   12200  0.034707      0.386916\n",
       "4      4 2015-01-08  27178.769531  ...    8200  0.060173      0.408416\n",
       "\n",
       "[5 rows x 10 columns]"
      ]
     },
     "execution_count": 130,
     "metadata": {
      "tags": []
     },
     "output_type": "execute_result"
    }
   ],
   "source": [
    "# marging the BSE data and news data together\n",
    "bse_data = pd.merge(BSEdata, newsdf, how='left', on=['date'])\n",
    "bse_data.head()"
   ]
  },
  {
   "cell_type": "code",
   "execution_count": 136,
   "metadata": {
    "colab": {
     "base_uri": "https://localhost:8080/",
     "height": 198
    },
    "id": "VyUS9D6kr4on",
    "outputId": "5e3dc5b9-d916-44d1-8270-96b8fa49a9ef"
   },
   "outputs": [
    {
     "data": {
      "text/html": [
       "<div>\n",
       "<style scoped>\n",
       "    .dataframe tbody tr th:only-of-type {\n",
       "        vertical-align: middle;\n",
       "    }\n",
       "\n",
       "    .dataframe tbody tr th {\n",
       "        vertical-align: top;\n",
       "    }\n",
       "\n",
       "    .dataframe thead th {\n",
       "        text-align: right;\n",
       "    }\n",
       "</style>\n",
       "<table border=\"1\" class=\"dataframe\">\n",
       "  <thead>\n",
       "    <tr style=\"text-align: right;\">\n",
       "      <th></th>\n",
       "      <th>date</th>\n",
       "      <th>open</th>\n",
       "      <th>high</th>\n",
       "      <th>low</th>\n",
       "      <th>close</th>\n",
       "      <th>adjclose</th>\n",
       "      <th>volume</th>\n",
       "      <th>polarity</th>\n",
       "      <th>subjectivity</th>\n",
       "    </tr>\n",
       "  </thead>\n",
       "  <tbody>\n",
       "    <tr>\n",
       "      <th>0</th>\n",
       "      <td>2015-01-02</td>\n",
       "      <td>27521.279297</td>\n",
       "      <td>27937.470703</td>\n",
       "      <td>27519.259766</td>\n",
       "      <td>27887.900391</td>\n",
       "      <td>27887.900391</td>\n",
       "      <td>7400</td>\n",
       "      <td>0.055586</td>\n",
       "      <td>0.455251</td>\n",
       "    </tr>\n",
       "    <tr>\n",
       "      <th>1</th>\n",
       "      <td>2015-01-05</td>\n",
       "      <td>27978.429688</td>\n",
       "      <td>28064.490234</td>\n",
       "      <td>27786.849609</td>\n",
       "      <td>27842.320312</td>\n",
       "      <td>27842.320312</td>\n",
       "      <td>9200</td>\n",
       "      <td>0.100081</td>\n",
       "      <td>0.433132</td>\n",
       "    </tr>\n",
       "    <tr>\n",
       "      <th>2</th>\n",
       "      <td>2015-01-06</td>\n",
       "      <td>27694.230469</td>\n",
       "      <td>27698.929688</td>\n",
       "      <td>26937.060547</td>\n",
       "      <td>26987.460938</td>\n",
       "      <td>26987.460938</td>\n",
       "      <td>14100</td>\n",
       "      <td>0.055802</td>\n",
       "      <td>0.386579</td>\n",
       "    </tr>\n",
       "    <tr>\n",
       "      <th>3</th>\n",
       "      <td>2015-01-07</td>\n",
       "      <td>26983.429688</td>\n",
       "      <td>27051.599609</td>\n",
       "      <td>26776.119141</td>\n",
       "      <td>26908.820312</td>\n",
       "      <td>26908.820312</td>\n",
       "      <td>12200</td>\n",
       "      <td>0.034707</td>\n",
       "      <td>0.386916</td>\n",
       "    </tr>\n",
       "    <tr>\n",
       "      <th>4</th>\n",
       "      <td>2015-01-08</td>\n",
       "      <td>27178.769531</td>\n",
       "      <td>27316.410156</td>\n",
       "      <td>27101.939453</td>\n",
       "      <td>27274.710938</td>\n",
       "      <td>27274.710938</td>\n",
       "      <td>8200</td>\n",
       "      <td>0.060173</td>\n",
       "      <td>0.408416</td>\n",
       "    </tr>\n",
       "  </tbody>\n",
       "</table>\n",
       "</div>"
      ],
      "text/plain": [
       "        date          open          high  ...  volume  polarity  subjectivity\n",
       "0 2015-01-02  27521.279297  27937.470703  ...    7400  0.055586      0.455251\n",
       "1 2015-01-05  27978.429688  28064.490234  ...    9200  0.100081      0.433132\n",
       "2 2015-01-06  27694.230469  27698.929688  ...   14100  0.055802      0.386579\n",
       "3 2015-01-07  26983.429688  27051.599609  ...   12200  0.034707      0.386916\n",
       "4 2015-01-08  27178.769531  27316.410156  ...    8200  0.060173      0.408416\n",
       "\n",
       "[5 rows x 9 columns]"
      ]
     },
     "execution_count": 136,
     "metadata": {
      "tags": []
     },
     "output_type": "execute_result"
    }
   ],
   "source": [
    "bse_data.drop('index', inplace=True, axis=1)\n",
    "bse_data.head()"
   ]
  },
  {
   "cell_type": "code",
   "execution_count": 137,
   "metadata": {
    "colab": {
     "base_uri": "https://localhost:8080/"
    },
    "id": "orxqP7V1pm5b",
    "outputId": "c8a619d4-5da5-4e55-fde3-f30f2967ab6f"
   },
   "outputs": [
    {
     "data": {
      "text/plain": [
       "(1345, 9)"
      ]
     },
     "execution_count": 137,
     "metadata": {
      "tags": []
     },
     "output_type": "execute_result"
    }
   ],
   "source": [
    "bse_data.shape"
   ]
  },
  {
   "cell_type": "markdown",
   "metadata": {
    "id": "XVQjRbwOp24H"
   },
   "source": [
    "# Preparing the dataset for machine learning"
   ]
  },
  {
   "cell_type": "markdown",
   "metadata": {
    "id": "t5VgyhUJqXKW"
   },
   "source": [
    ">adding new row for 30th June 2020 (price to be predicted of this day) to main dataset to get average values of all the columns for this day. We need average for independent variable.\n",
    "\n",
    ">This row will be used as prediction of unseen data for tomorrow. Then tally it with actual data from unseenbse_data dataset for 30th June 2020 actual values."
   ]
  },
  {
   "cell_type": "code",
   "execution_count": 138,
   "metadata": {
    "id": "0NkbnrJrp3jz"
   },
   "outputs": [],
   "source": [
    "bse_data.loc[len(bse_data)] = ['2020-06-30', bse_data['open'].mean(), bse_data['high'].mean(), bse_data['low'].mean(),bse_data['close'].mean(), bse_data['adjclose'].mean(), bse_data['volume'].median(), newsdf['polarity'].mean(), newsdf['subjectivity'].mean() ]"
   ]
  },
  {
   "cell_type": "code",
   "execution_count": 146,
   "metadata": {
    "colab": {
     "base_uri": "https://localhost:8080/"
    },
    "id": "R47VIQcBqFfx",
    "outputId": "7e7e5e9b-3bf3-42e7-fefc-9204d7f00099"
   },
   "outputs": [
    {
     "name": "stderr",
     "output_type": "stream",
     "text": [
      "/usr/local/lib/python3.6/dist-packages/ipykernel_launcher.py:4: FutureWarning: Series.dt.weekofyear and Series.dt.week have been deprecated.  Please use Series.dt.isocalendar().week instead.\n",
      "  after removing the cwd from sys.path.\n"
     ]
    }
   ],
   "source": [
    "bse_data[\"month\"] = BSEdata['date'].dt.month\n",
    "bse_data[\"day\"] = BSEdata['date'].dt.day\n",
    "bse_data[\"dayofweek\"] = BSEdata['date'].dt.dayofweek\n",
    "bse_data[\"week\"] = BSEdata['date'].dt.week\n",
    "bse_data['movingavg4weeks'] = round(BSEdata['close'].rolling(window=(4*5), min_periods = 1).mean().shift(),2)\n",
    "bse_data['movingavg16weeks'] = round(BSEdata['close'].rolling(window=(16*5), min_periods = 1).mean().shift(),2) #add 12 weeks to 4 weeks \n",
    "bse_data['movingavg28weeks'] = round(BSEdata['close'].rolling(window=(28*5), min_periods = 1).mean().shift(),2) #add 12 weeks to 16 weeks\n",
    "bse_data['movingavg40weeks'] = round(BSEdata['close'].rolling(window=(40*5), min_periods = 1).mean().shift(),2) #add 12 weeks to 28 weeks\n",
    "bse_data['movingavg52weeks'] = round(BSEdata['close'].rolling(window=(52*5), min_periods = 1).mean().shift(),2)  #add 12 weeks to 40 weeks\n",
    "bse_data['window10days'] = round(BSEdata['close'].rolling(window = 10, min_periods = 1).mean().shift(),2)  \n",
    "bse_data['window50days'] = round(BSEdata['close'].rolling(window = 50, min_periods = 1).mean().shift(),2)\n",
    "bse_data['volumeshock'] = round(boolean_shock(10, BSEdata, 'volume').reset_index()['shock'], 2)\n",
    "bse_data['closeshock2'] = round(reverse_boolean_shock(2, BSEdata, 'close').reset_index()['shock'], 2)\n",
    "bse_data['closeshock5'] = round(reverse_boolean_shock(5, BSEdata, 'close').reset_index()['shock'],2)\n",
    "bse_data['closeshock10'] = round(reverse_boolean_shock(10, BSEdata, 'close').reset_index()['shock'], 2)\n",
    "bse_data['priceshock'] = round(price_boolean_shock(10, BSEdata).reset_index()['shock'], 2)\n",
    "bse_data['reversebooleanshock2'] = round(reverse_boolean_shock(2, BSEdata, 'close').reset_index()['shock'], 2)\n",
    "bse_data['reversebooleanshock5'] = round(reverse_boolean_shock(5, BSEdata, 'close').reset_index()['shock'], 2)\n",
    "bse_data['pricereverseshock2'] = round(price_reverse_boolean_shock(2, BSEdata).reset_index()['shock'], 2)\n",
    "bse_data['polarity'] = round(bse_data['polarity'] , 2)\n",
    "bse_data['subjectivity'] = round(bse_data['subjectivity'] , 2)\n",
    "bse_data['price'] = round((BSEdata['high'] + BSEdata['low'] + BSEdata['close']) / 3 , 2)\n",
    "bse_data['close'] = round(BSEdata['close'] , 2)"
   ]
  },
  {
   "cell_type": "code",
   "execution_count": 148,
   "metadata": {
    "colab": {
     "base_uri": "https://localhost:8080/",
     "height": 391
    },
    "id": "Cjhe2li5qFkB",
    "outputId": "7e5701a8-53cd-4661-d969-9a2df5819ca9"
   },
   "outputs": [
    {
     "data": {
      "text/html": [
       "<div>\n",
       "<style scoped>\n",
       "    .dataframe tbody tr th:only-of-type {\n",
       "        vertical-align: middle;\n",
       "    }\n",
       "\n",
       "    .dataframe tbody tr th {\n",
       "        vertical-align: top;\n",
       "    }\n",
       "\n",
       "    .dataframe thead th {\n",
       "        text-align: right;\n",
       "    }\n",
       "</style>\n",
       "<table border=\"1\" class=\"dataframe\">\n",
       "  <thead>\n",
       "    <tr style=\"text-align: right;\">\n",
       "      <th></th>\n",
       "      <th>date</th>\n",
       "      <th>open</th>\n",
       "      <th>high</th>\n",
       "      <th>low</th>\n",
       "      <th>close</th>\n",
       "      <th>adjclose</th>\n",
       "      <th>volume</th>\n",
       "      <th>polarity</th>\n",
       "      <th>subjectivity</th>\n",
       "      <th>month</th>\n",
       "      <th>day</th>\n",
       "      <th>dayofweek</th>\n",
       "      <th>week</th>\n",
       "      <th>movingavg4weeks</th>\n",
       "      <th>movingavg16weeks</th>\n",
       "      <th>movingavg28weeks</th>\n",
       "      <th>movingavg40weeks</th>\n",
       "      <th>movingavg52weeks</th>\n",
       "      <th>window10days</th>\n",
       "      <th>window50days</th>\n",
       "      <th>volumeshock</th>\n",
       "      <th>closeshock2</th>\n",
       "      <th>closeshock5</th>\n",
       "      <th>closeshock10</th>\n",
       "      <th>priceshock</th>\n",
       "      <th>reversebooleanshock2</th>\n",
       "      <th>reversebooleanshock5</th>\n",
       "      <th>pricereverseshock2</th>\n",
       "      <th>price</th>\n",
       "    </tr>\n",
       "  </thead>\n",
       "  <tbody>\n",
       "    <tr>\n",
       "      <th>0</th>\n",
       "      <td>2015-01-02 00:00:00</td>\n",
       "      <td>27521.279297</td>\n",
       "      <td>27937.470703</td>\n",
       "      <td>27519.259766</td>\n",
       "      <td>27887.90</td>\n",
       "      <td>27887.900391</td>\n",
       "      <td>7400.0</td>\n",
       "      <td>0.06</td>\n",
       "      <td>0.46</td>\n",
       "      <td>1.0</td>\n",
       "      <td>2.0</td>\n",
       "      <td>4.0</td>\n",
       "      <td>1.0</td>\n",
       "      <td>NaN</td>\n",
       "      <td>NaN</td>\n",
       "      <td>NaN</td>\n",
       "      <td>NaN</td>\n",
       "      <td>NaN</td>\n",
       "      <td>NaN</td>\n",
       "      <td>NaN</td>\n",
       "      <td>1.0</td>\n",
       "      <td>0.0</td>\n",
       "      <td>0.0</td>\n",
       "      <td>0.0</td>\n",
       "      <td>0.0</td>\n",
       "      <td>0.0</td>\n",
       "      <td>0.0</td>\n",
       "      <td>0.0</td>\n",
       "      <td>27781.54</td>\n",
       "    </tr>\n",
       "    <tr>\n",
       "      <th>1</th>\n",
       "      <td>2015-01-05 00:00:00</td>\n",
       "      <td>27978.429688</td>\n",
       "      <td>28064.490234</td>\n",
       "      <td>27786.849609</td>\n",
       "      <td>27842.32</td>\n",
       "      <td>27842.320312</td>\n",
       "      <td>9200.0</td>\n",
       "      <td>0.10</td>\n",
       "      <td>0.43</td>\n",
       "      <td>1.0</td>\n",
       "      <td>5.0</td>\n",
       "      <td>0.0</td>\n",
       "      <td>2.0</td>\n",
       "      <td>27887.90</td>\n",
       "      <td>27887.90</td>\n",
       "      <td>27887.90</td>\n",
       "      <td>27887.90</td>\n",
       "      <td>27887.90</td>\n",
       "      <td>27887.90</td>\n",
       "      <td>27887.90</td>\n",
       "      <td>1.0</td>\n",
       "      <td>1.0</td>\n",
       "      <td>0.0</td>\n",
       "      <td>0.0</td>\n",
       "      <td>0.0</td>\n",
       "      <td>1.0</td>\n",
       "      <td>0.0</td>\n",
       "      <td>1.0</td>\n",
       "      <td>27897.89</td>\n",
       "    </tr>\n",
       "    <tr>\n",
       "      <th>2</th>\n",
       "      <td>2015-01-06 00:00:00</td>\n",
       "      <td>27694.230469</td>\n",
       "      <td>27698.929688</td>\n",
       "      <td>26937.060547</td>\n",
       "      <td>26987.46</td>\n",
       "      <td>26987.460938</td>\n",
       "      <td>14100.0</td>\n",
       "      <td>0.06</td>\n",
       "      <td>0.39</td>\n",
       "      <td>1.0</td>\n",
       "      <td>6.0</td>\n",
       "      <td>1.0</td>\n",
       "      <td>2.0</td>\n",
       "      <td>27865.11</td>\n",
       "      <td>27865.11</td>\n",
       "      <td>27865.11</td>\n",
       "      <td>27865.11</td>\n",
       "      <td>27865.11</td>\n",
       "      <td>27865.11</td>\n",
       "      <td>27865.11</td>\n",
       "      <td>0.0</td>\n",
       "      <td>0.0</td>\n",
       "      <td>0.0</td>\n",
       "      <td>0.0</td>\n",
       "      <td>0.0</td>\n",
       "      <td>0.0</td>\n",
       "      <td>0.0</td>\n",
       "      <td>0.0</td>\n",
       "      <td>27207.82</td>\n",
       "    </tr>\n",
       "    <tr>\n",
       "      <th>3</th>\n",
       "      <td>2015-01-07 00:00:00</td>\n",
       "      <td>26983.429688</td>\n",
       "      <td>27051.599609</td>\n",
       "      <td>26776.119141</td>\n",
       "      <td>26908.82</td>\n",
       "      <td>26908.820312</td>\n",
       "      <td>12200.0</td>\n",
       "      <td>0.03</td>\n",
       "      <td>0.39</td>\n",
       "      <td>1.0</td>\n",
       "      <td>7.0</td>\n",
       "      <td>2.0</td>\n",
       "      <td>2.0</td>\n",
       "      <td>27572.56</td>\n",
       "      <td>27572.56</td>\n",
       "      <td>27572.56</td>\n",
       "      <td>27572.56</td>\n",
       "      <td>27572.56</td>\n",
       "      <td>27572.56</td>\n",
       "      <td>27572.56</td>\n",
       "      <td>0.0</td>\n",
       "      <td>0.0</td>\n",
       "      <td>0.0</td>\n",
       "      <td>0.0</td>\n",
       "      <td>0.0</td>\n",
       "      <td>0.0</td>\n",
       "      <td>0.0</td>\n",
       "      <td>0.0</td>\n",
       "      <td>26912.18</td>\n",
       "    </tr>\n",
       "    <tr>\n",
       "      <th>4</th>\n",
       "      <td>2015-01-08 00:00:00</td>\n",
       "      <td>27178.769531</td>\n",
       "      <td>27316.410156</td>\n",
       "      <td>27101.939453</td>\n",
       "      <td>27274.71</td>\n",
       "      <td>27274.710938</td>\n",
       "      <td>8200.0</td>\n",
       "      <td>0.06</td>\n",
       "      <td>0.41</td>\n",
       "      <td>1.0</td>\n",
       "      <td>8.0</td>\n",
       "      <td>3.0</td>\n",
       "      <td>2.0</td>\n",
       "      <td>27406.63</td>\n",
       "      <td>27406.63</td>\n",
       "      <td>27406.63</td>\n",
       "      <td>27406.63</td>\n",
       "      <td>27406.63</td>\n",
       "      <td>27406.63</td>\n",
       "      <td>27406.63</td>\n",
       "      <td>1.0</td>\n",
       "      <td>0.0</td>\n",
       "      <td>0.0</td>\n",
       "      <td>0.0</td>\n",
       "      <td>0.0</td>\n",
       "      <td>0.0</td>\n",
       "      <td>0.0</td>\n",
       "      <td>0.0</td>\n",
       "      <td>27231.02</td>\n",
       "    </tr>\n",
       "  </tbody>\n",
       "</table>\n",
       "</div>"
      ],
      "text/plain": [
       "                  date          open  ...  pricereverseshock2     price\n",
       "0  2015-01-02 00:00:00  27521.279297  ...                 0.0  27781.54\n",
       "1  2015-01-05 00:00:00  27978.429688  ...                 1.0  27897.89\n",
       "2  2015-01-06 00:00:00  27694.230469  ...                 0.0  27207.82\n",
       "3  2015-01-07 00:00:00  26983.429688  ...                 0.0  26912.18\n",
       "4  2015-01-08 00:00:00  27178.769531  ...                 0.0  27231.02\n",
       "\n",
       "[5 rows x 29 columns]"
      ]
     },
     "execution_count": 148,
     "metadata": {
      "tags": []
     },
     "output_type": "execute_result"
    }
   ],
   "source": [
    "bse_data.head()"
   ]
  },
  {
   "cell_type": "code",
   "execution_count": 149,
   "metadata": {
    "colab": {
     "base_uri": "https://localhost:8080/"
    },
    "id": "fgvKyGuFqFsJ",
    "outputId": "ab7525c1-2e23-4f40-d50d-f265ad9c51fd"
   },
   "outputs": [
    {
     "data": {
      "text/plain": [
       "34"
      ]
     },
     "execution_count": 149,
     "metadata": {
      "tags": []
     },
     "output_type": "execute_result"
    }
   ],
   "source": [
    "bse_data.isnull().sum().sum()"
   ]
  },
  {
   "cell_type": "code",
   "execution_count": 150,
   "metadata": {
    "colab": {
     "base_uri": "https://localhost:8080/"
    },
    "id": "9i6ujmlwqFw_",
    "outputId": "e7fb7878-7180-4908-bab0-a75843ab24fc"
   },
   "outputs": [
    {
     "data": {
      "text/plain": [
       "0"
      ]
     },
     "execution_count": 150,
     "metadata": {
      "tags": []
     },
     "output_type": "execute_result"
    }
   ],
   "source": [
    "#fillinf the null columns\n",
    "bse_data.fillna(method = 'bfill', inplace = True)\n",
    "bse_data.fillna(method = 'ffill', inplace = True)\n",
    "bse_data.isnull().sum().sum()"
   ]
  },
  {
   "cell_type": "code",
   "execution_count": 151,
   "metadata": {
    "colab": {
     "base_uri": "https://localhost:8080/",
     "height": 218
    },
    "id": "D2J_FnEpqGAz",
    "outputId": "9530c1b5-d3af-4373-a848-75ae6a89f60e"
   },
   "outputs": [
    {
     "data": {
      "text/html": [
       "<div>\n",
       "<style scoped>\n",
       "    .dataframe tbody tr th:only-of-type {\n",
       "        vertical-align: middle;\n",
       "    }\n",
       "\n",
       "    .dataframe tbody tr th {\n",
       "        vertical-align: top;\n",
       "    }\n",
       "\n",
       "    .dataframe thead th {\n",
       "        text-align: right;\n",
       "    }\n",
       "</style>\n",
       "<table border=\"1\" class=\"dataframe\">\n",
       "  <thead>\n",
       "    <tr style=\"text-align: right;\">\n",
       "      <th></th>\n",
       "      <th>month</th>\n",
       "      <th>day</th>\n",
       "      <th>dayofweek</th>\n",
       "      <th>week</th>\n",
       "      <th>movingavg4weeks</th>\n",
       "      <th>movingavg16weeks</th>\n",
       "      <th>movingavg28weeks</th>\n",
       "      <th>movingavg40weeks</th>\n",
       "      <th>movingavg52weeks</th>\n",
       "      <th>window10days</th>\n",
       "      <th>window50days</th>\n",
       "      <th>volumeshock</th>\n",
       "      <th>closeshock2</th>\n",
       "      <th>closeshock5</th>\n",
       "      <th>closeshock10</th>\n",
       "      <th>priceshock</th>\n",
       "      <th>reversebooleanshock2</th>\n",
       "      <th>reversebooleanshock5</th>\n",
       "      <th>pricereverseshock2</th>\n",
       "      <th>polarity</th>\n",
       "      <th>subjectivity</th>\n",
       "      <th>price</th>\n",
       "      <th>close</th>\n",
       "    </tr>\n",
       "  </thead>\n",
       "  <tbody>\n",
       "    <tr>\n",
       "      <th>0</th>\n",
       "      <td>1.0</td>\n",
       "      <td>2.0</td>\n",
       "      <td>4.0</td>\n",
       "      <td>1.0</td>\n",
       "      <td>27887.90</td>\n",
       "      <td>27887.90</td>\n",
       "      <td>27887.90</td>\n",
       "      <td>27887.90</td>\n",
       "      <td>27887.90</td>\n",
       "      <td>27887.90</td>\n",
       "      <td>27887.90</td>\n",
       "      <td>1.0</td>\n",
       "      <td>0.0</td>\n",
       "      <td>0.0</td>\n",
       "      <td>0.0</td>\n",
       "      <td>0.0</td>\n",
       "      <td>0.0</td>\n",
       "      <td>0.0</td>\n",
       "      <td>0.0</td>\n",
       "      <td>0.06</td>\n",
       "      <td>0.46</td>\n",
       "      <td>27781.54</td>\n",
       "      <td>27887.90</td>\n",
       "    </tr>\n",
       "    <tr>\n",
       "      <th>1</th>\n",
       "      <td>1.0</td>\n",
       "      <td>5.0</td>\n",
       "      <td>0.0</td>\n",
       "      <td>2.0</td>\n",
       "      <td>27887.90</td>\n",
       "      <td>27887.90</td>\n",
       "      <td>27887.90</td>\n",
       "      <td>27887.90</td>\n",
       "      <td>27887.90</td>\n",
       "      <td>27887.90</td>\n",
       "      <td>27887.90</td>\n",
       "      <td>1.0</td>\n",
       "      <td>1.0</td>\n",
       "      <td>0.0</td>\n",
       "      <td>0.0</td>\n",
       "      <td>0.0</td>\n",
       "      <td>1.0</td>\n",
       "      <td>0.0</td>\n",
       "      <td>1.0</td>\n",
       "      <td>0.10</td>\n",
       "      <td>0.43</td>\n",
       "      <td>27897.89</td>\n",
       "      <td>27842.32</td>\n",
       "    </tr>\n",
       "    <tr>\n",
       "      <th>2</th>\n",
       "      <td>1.0</td>\n",
       "      <td>6.0</td>\n",
       "      <td>1.0</td>\n",
       "      <td>2.0</td>\n",
       "      <td>27865.11</td>\n",
       "      <td>27865.11</td>\n",
       "      <td>27865.11</td>\n",
       "      <td>27865.11</td>\n",
       "      <td>27865.11</td>\n",
       "      <td>27865.11</td>\n",
       "      <td>27865.11</td>\n",
       "      <td>0.0</td>\n",
       "      <td>0.0</td>\n",
       "      <td>0.0</td>\n",
       "      <td>0.0</td>\n",
       "      <td>0.0</td>\n",
       "      <td>0.0</td>\n",
       "      <td>0.0</td>\n",
       "      <td>0.0</td>\n",
       "      <td>0.06</td>\n",
       "      <td>0.39</td>\n",
       "      <td>27207.82</td>\n",
       "      <td>26987.46</td>\n",
       "    </tr>\n",
       "    <tr>\n",
       "      <th>3</th>\n",
       "      <td>1.0</td>\n",
       "      <td>7.0</td>\n",
       "      <td>2.0</td>\n",
       "      <td>2.0</td>\n",
       "      <td>27572.56</td>\n",
       "      <td>27572.56</td>\n",
       "      <td>27572.56</td>\n",
       "      <td>27572.56</td>\n",
       "      <td>27572.56</td>\n",
       "      <td>27572.56</td>\n",
       "      <td>27572.56</td>\n",
       "      <td>0.0</td>\n",
       "      <td>0.0</td>\n",
       "      <td>0.0</td>\n",
       "      <td>0.0</td>\n",
       "      <td>0.0</td>\n",
       "      <td>0.0</td>\n",
       "      <td>0.0</td>\n",
       "      <td>0.0</td>\n",
       "      <td>0.03</td>\n",
       "      <td>0.39</td>\n",
       "      <td>26912.18</td>\n",
       "      <td>26908.82</td>\n",
       "    </tr>\n",
       "    <tr>\n",
       "      <th>4</th>\n",
       "      <td>1.0</td>\n",
       "      <td>8.0</td>\n",
       "      <td>3.0</td>\n",
       "      <td>2.0</td>\n",
       "      <td>27406.63</td>\n",
       "      <td>27406.63</td>\n",
       "      <td>27406.63</td>\n",
       "      <td>27406.63</td>\n",
       "      <td>27406.63</td>\n",
       "      <td>27406.63</td>\n",
       "      <td>27406.63</td>\n",
       "      <td>1.0</td>\n",
       "      <td>0.0</td>\n",
       "      <td>0.0</td>\n",
       "      <td>0.0</td>\n",
       "      <td>0.0</td>\n",
       "      <td>0.0</td>\n",
       "      <td>0.0</td>\n",
       "      <td>0.0</td>\n",
       "      <td>0.06</td>\n",
       "      <td>0.41</td>\n",
       "      <td>27231.02</td>\n",
       "      <td>27274.71</td>\n",
       "    </tr>\n",
       "  </tbody>\n",
       "</table>\n",
       "</div>"
      ],
      "text/plain": [
       "   month  day  dayofweek  week  ...  polarity  subjectivity     price     close\n",
       "0    1.0  2.0        4.0   1.0  ...      0.06          0.46  27781.54  27887.90\n",
       "1    1.0  5.0        0.0   2.0  ...      0.10          0.43  27897.89  27842.32\n",
       "2    1.0  6.0        1.0   2.0  ...      0.06          0.39  27207.82  26987.46\n",
       "3    1.0  7.0        2.0   2.0  ...      0.03          0.39  26912.18  26908.82\n",
       "4    1.0  8.0        3.0   2.0  ...      0.06          0.41  27231.02  27274.71\n",
       "\n",
       "[5 rows x 23 columns]"
      ]
     },
     "execution_count": 151,
     "metadata": {
      "tags": []
     },
     "output_type": "execute_result"
    }
   ],
   "source": [
    "#selecting specific columns\n",
    "bse_data = bse_data.filter(['month', 'day', 'dayofweek', 'week',\n",
    "       'movingavg4weeks', 'movingavg16weeks', 'movingavg28weeks',\n",
    "       'movingavg40weeks', 'movingavg52weeks', 'window10days', 'window50days',\n",
    "       'volumeshock', 'closeshock2', 'closeshock5', 'closeshock10',\n",
    "       'priceshock', 'reversebooleanshock2', 'reversebooleanshock5',\n",
    "       'pricereverseshock2', 'polarity', 'subjectivity', 'price', 'close'], axis=1)\n",
    "bse_data.head()"
   ]
  },
  {
   "cell_type": "code",
   "execution_count": 152,
   "metadata": {
    "id": "cDDtiOtlt6W1"
   },
   "outputs": [],
   "source": [
    "#separating the predicted date row from main dataset after getting all the calculated average values\n",
    "main_bsedata = bse_data.iloc[:1345,:].reset_index()  \n",
    "newtestunseen_bsedata = bse_data.iloc[1345:,:].reset_index()  "
   ]
  },
  {
   "cell_type": "code",
   "execution_count": 154,
   "metadata": {
    "colab": {
     "base_uri": "https://localhost:8080/"
    },
    "id": "9YvKu_9lt6a_",
    "outputId": "e88c483d-bb00-4ee6-87cc-0047a33ecb8f"
   },
   "outputs": [
    {
     "data": {
      "text/plain": [
       "(1345, 24)"
      ]
     },
     "execution_count": 154,
     "metadata": {
      "tags": []
     },
     "output_type": "execute_result"
    }
   ],
   "source": [
    "main_bsedata.shape"
   ]
  },
  {
   "cell_type": "code",
   "execution_count": 157,
   "metadata": {
    "colab": {
     "base_uri": "https://localhost:8080/"
    },
    "id": "4d8hhPvxuwGF",
    "outputId": "2870a99a-a8ac-4ccf-de61-2ba4670689d2"
   },
   "outputs": [
    {
     "data": {
      "text/plain": [
       "(1, 24)"
      ]
     },
     "execution_count": 157,
     "metadata": {
      "tags": []
     },
     "output_type": "execute_result"
    }
   ],
   "source": [
    "newtestunseen_bsedata.shape"
   ]
  },
  {
   "cell_type": "code",
   "execution_count": 156,
   "metadata": {
    "colab": {
     "base_uri": "https://localhost:8080/",
     "height": 218
    },
    "id": "sFw6WgxFt6e5",
    "outputId": "43d854fd-0135-43f0-f5d3-59d9f0ead287"
   },
   "outputs": [
    {
     "data": {
      "text/html": [
       "<div>\n",
       "<style scoped>\n",
       "    .dataframe tbody tr th:only-of-type {\n",
       "        vertical-align: middle;\n",
       "    }\n",
       "\n",
       "    .dataframe tbody tr th {\n",
       "        vertical-align: top;\n",
       "    }\n",
       "\n",
       "    .dataframe thead th {\n",
       "        text-align: right;\n",
       "    }\n",
       "</style>\n",
       "<table border=\"1\" class=\"dataframe\">\n",
       "  <thead>\n",
       "    <tr style=\"text-align: right;\">\n",
       "      <th></th>\n",
       "      <th>index</th>\n",
       "      <th>month</th>\n",
       "      <th>day</th>\n",
       "      <th>dayofweek</th>\n",
       "      <th>week</th>\n",
       "      <th>movingavg4weeks</th>\n",
       "      <th>movingavg16weeks</th>\n",
       "      <th>movingavg28weeks</th>\n",
       "      <th>movingavg40weeks</th>\n",
       "      <th>movingavg52weeks</th>\n",
       "      <th>window10days</th>\n",
       "      <th>window50days</th>\n",
       "      <th>volumeshock</th>\n",
       "      <th>closeshock2</th>\n",
       "      <th>closeshock5</th>\n",
       "      <th>closeshock10</th>\n",
       "      <th>priceshock</th>\n",
       "      <th>reversebooleanshock2</th>\n",
       "      <th>reversebooleanshock5</th>\n",
       "      <th>pricereverseshock2</th>\n",
       "      <th>polarity</th>\n",
       "      <th>subjectivity</th>\n",
       "      <th>price</th>\n",
       "      <th>close</th>\n",
       "    </tr>\n",
       "  </thead>\n",
       "  <tbody>\n",
       "    <tr>\n",
       "      <th>0</th>\n",
       "      <td>0</td>\n",
       "      <td>1.0</td>\n",
       "      <td>2.0</td>\n",
       "      <td>4.0</td>\n",
       "      <td>1.0</td>\n",
       "      <td>27887.90</td>\n",
       "      <td>27887.90</td>\n",
       "      <td>27887.90</td>\n",
       "      <td>27887.90</td>\n",
       "      <td>27887.90</td>\n",
       "      <td>27887.90</td>\n",
       "      <td>27887.90</td>\n",
       "      <td>1.0</td>\n",
       "      <td>0.0</td>\n",
       "      <td>0.0</td>\n",
       "      <td>0.0</td>\n",
       "      <td>0.0</td>\n",
       "      <td>0.0</td>\n",
       "      <td>0.0</td>\n",
       "      <td>0.0</td>\n",
       "      <td>0.06</td>\n",
       "      <td>0.46</td>\n",
       "      <td>27781.54</td>\n",
       "      <td>27887.90</td>\n",
       "    </tr>\n",
       "    <tr>\n",
       "      <th>1</th>\n",
       "      <td>1</td>\n",
       "      <td>1.0</td>\n",
       "      <td>5.0</td>\n",
       "      <td>0.0</td>\n",
       "      <td>2.0</td>\n",
       "      <td>27887.90</td>\n",
       "      <td>27887.90</td>\n",
       "      <td>27887.90</td>\n",
       "      <td>27887.90</td>\n",
       "      <td>27887.90</td>\n",
       "      <td>27887.90</td>\n",
       "      <td>27887.90</td>\n",
       "      <td>1.0</td>\n",
       "      <td>1.0</td>\n",
       "      <td>0.0</td>\n",
       "      <td>0.0</td>\n",
       "      <td>0.0</td>\n",
       "      <td>1.0</td>\n",
       "      <td>0.0</td>\n",
       "      <td>1.0</td>\n",
       "      <td>0.10</td>\n",
       "      <td>0.43</td>\n",
       "      <td>27897.89</td>\n",
       "      <td>27842.32</td>\n",
       "    </tr>\n",
       "    <tr>\n",
       "      <th>2</th>\n",
       "      <td>2</td>\n",
       "      <td>1.0</td>\n",
       "      <td>6.0</td>\n",
       "      <td>1.0</td>\n",
       "      <td>2.0</td>\n",
       "      <td>27865.11</td>\n",
       "      <td>27865.11</td>\n",
       "      <td>27865.11</td>\n",
       "      <td>27865.11</td>\n",
       "      <td>27865.11</td>\n",
       "      <td>27865.11</td>\n",
       "      <td>27865.11</td>\n",
       "      <td>0.0</td>\n",
       "      <td>0.0</td>\n",
       "      <td>0.0</td>\n",
       "      <td>0.0</td>\n",
       "      <td>0.0</td>\n",
       "      <td>0.0</td>\n",
       "      <td>0.0</td>\n",
       "      <td>0.0</td>\n",
       "      <td>0.06</td>\n",
       "      <td>0.39</td>\n",
       "      <td>27207.82</td>\n",
       "      <td>26987.46</td>\n",
       "    </tr>\n",
       "    <tr>\n",
       "      <th>3</th>\n",
       "      <td>3</td>\n",
       "      <td>1.0</td>\n",
       "      <td>7.0</td>\n",
       "      <td>2.0</td>\n",
       "      <td>2.0</td>\n",
       "      <td>27572.56</td>\n",
       "      <td>27572.56</td>\n",
       "      <td>27572.56</td>\n",
       "      <td>27572.56</td>\n",
       "      <td>27572.56</td>\n",
       "      <td>27572.56</td>\n",
       "      <td>27572.56</td>\n",
       "      <td>0.0</td>\n",
       "      <td>0.0</td>\n",
       "      <td>0.0</td>\n",
       "      <td>0.0</td>\n",
       "      <td>0.0</td>\n",
       "      <td>0.0</td>\n",
       "      <td>0.0</td>\n",
       "      <td>0.0</td>\n",
       "      <td>0.03</td>\n",
       "      <td>0.39</td>\n",
       "      <td>26912.18</td>\n",
       "      <td>26908.82</td>\n",
       "    </tr>\n",
       "    <tr>\n",
       "      <th>4</th>\n",
       "      <td>4</td>\n",
       "      <td>1.0</td>\n",
       "      <td>8.0</td>\n",
       "      <td>3.0</td>\n",
       "      <td>2.0</td>\n",
       "      <td>27406.63</td>\n",
       "      <td>27406.63</td>\n",
       "      <td>27406.63</td>\n",
       "      <td>27406.63</td>\n",
       "      <td>27406.63</td>\n",
       "      <td>27406.63</td>\n",
       "      <td>27406.63</td>\n",
       "      <td>1.0</td>\n",
       "      <td>0.0</td>\n",
       "      <td>0.0</td>\n",
       "      <td>0.0</td>\n",
       "      <td>0.0</td>\n",
       "      <td>0.0</td>\n",
       "      <td>0.0</td>\n",
       "      <td>0.0</td>\n",
       "      <td>0.06</td>\n",
       "      <td>0.41</td>\n",
       "      <td>27231.02</td>\n",
       "      <td>27274.71</td>\n",
       "    </tr>\n",
       "  </tbody>\n",
       "</table>\n",
       "</div>"
      ],
      "text/plain": [
       "   index  month  day  dayofweek  ...  polarity  subjectivity     price     close\n",
       "0      0    1.0  2.0        4.0  ...      0.06          0.46  27781.54  27887.90\n",
       "1      1    1.0  5.0        0.0  ...      0.10          0.43  27897.89  27842.32\n",
       "2      2    1.0  6.0        1.0  ...      0.06          0.39  27207.82  26987.46\n",
       "3      3    1.0  7.0        2.0  ...      0.03          0.39  26912.18  26908.82\n",
       "4      4    1.0  8.0        3.0  ...      0.06          0.41  27231.02  27274.71\n",
       "\n",
       "[5 rows x 24 columns]"
      ]
     },
     "execution_count": 156,
     "metadata": {
      "tags": []
     },
     "output_type": "execute_result"
    }
   ],
   "source": [
    "main_bsedata.head()"
   ]
  },
  {
   "cell_type": "code",
   "execution_count": 158,
   "metadata": {
    "colab": {
     "base_uri": "https://localhost:8080/",
     "height": 98
    },
    "id": "79ofUF7ut6kn",
    "outputId": "c38b3b74-7da4-4317-a07f-a620659e0fcb"
   },
   "outputs": [
    {
     "data": {
      "text/html": [
       "<div>\n",
       "<style scoped>\n",
       "    .dataframe tbody tr th:only-of-type {\n",
       "        vertical-align: middle;\n",
       "    }\n",
       "\n",
       "    .dataframe tbody tr th {\n",
       "        vertical-align: top;\n",
       "    }\n",
       "\n",
       "    .dataframe thead th {\n",
       "        text-align: right;\n",
       "    }\n",
       "</style>\n",
       "<table border=\"1\" class=\"dataframe\">\n",
       "  <thead>\n",
       "    <tr style=\"text-align: right;\">\n",
       "      <th></th>\n",
       "      <th>index</th>\n",
       "      <th>month</th>\n",
       "      <th>day</th>\n",
       "      <th>dayofweek</th>\n",
       "      <th>week</th>\n",
       "      <th>movingavg4weeks</th>\n",
       "      <th>movingavg16weeks</th>\n",
       "      <th>movingavg28weeks</th>\n",
       "      <th>movingavg40weeks</th>\n",
       "      <th>movingavg52weeks</th>\n",
       "      <th>window10days</th>\n",
       "      <th>window50days</th>\n",
       "      <th>volumeshock</th>\n",
       "      <th>closeshock2</th>\n",
       "      <th>closeshock5</th>\n",
       "      <th>closeshock10</th>\n",
       "      <th>priceshock</th>\n",
       "      <th>reversebooleanshock2</th>\n",
       "      <th>reversebooleanshock5</th>\n",
       "      <th>pricereverseshock2</th>\n",
       "      <th>polarity</th>\n",
       "      <th>subjectivity</th>\n",
       "      <th>price</th>\n",
       "      <th>close</th>\n",
       "    </tr>\n",
       "  </thead>\n",
       "  <tbody>\n",
       "    <tr>\n",
       "      <th>0</th>\n",
       "      <td>1345</td>\n",
       "      <td>6.0</td>\n",
       "      <td>29.0</td>\n",
       "      <td>0.0</td>\n",
       "      <td>27.0</td>\n",
       "      <td>34195.3</td>\n",
       "      <td>32390.89</td>\n",
       "      <td>36136.56</td>\n",
       "      <td>36963.62</td>\n",
       "      <td>37313.42</td>\n",
       "      <td>34450.58</td>\n",
       "      <td>32556.76</td>\n",
       "      <td>0.0</td>\n",
       "      <td>0.0</td>\n",
       "      <td>0.0</td>\n",
       "      <td>0.0</td>\n",
       "      <td>0.0</td>\n",
       "      <td>0.0</td>\n",
       "      <td>0.0</td>\n",
       "      <td>0.0</td>\n",
       "      <td>0.07</td>\n",
       "      <td>0.4</td>\n",
       "      <td>34885.31</td>\n",
       "      <td>34961.52</td>\n",
       "    </tr>\n",
       "  </tbody>\n",
       "</table>\n",
       "</div>"
      ],
      "text/plain": [
       "   index  month   day  dayofweek  ...  polarity  subjectivity     price     close\n",
       "0   1345    6.0  29.0        0.0  ...      0.07           0.4  34885.31  34961.52\n",
       "\n",
       "[1 rows x 24 columns]"
      ]
     },
     "execution_count": 158,
     "metadata": {
      "tags": []
     },
     "output_type": "execute_result"
    }
   ],
   "source": [
    "newtestunseen_bsedata.head()"
   ]
  },
  {
   "cell_type": "markdown",
   "metadata": {
    "id": "S1vUllOKu6Xl"
   },
   "source": [
    "# Training the model\n"
   ]
  },
  {
   "cell_type": "code",
   "execution_count": 159,
   "metadata": {
    "id": "e1nnY-fcu0Ny"
   },
   "outputs": [],
   "source": [
    "X = main_bsedata.drop(['price','close'], axis = 1)\n",
    "y = main_bsedata[['price','close']]\n",
    "X_new_testunseen = newtestunseen_bsedata.drop(['price','close'], axis = 1)\n",
    "y_new_testunseen_ans = newtestunseen_bsedata[['price','close']]"
   ]
  },
  {
   "cell_type": "code",
   "execution_count": 163,
   "metadata": {
    "colab": {
     "base_uri": "https://localhost:8080/"
    },
    "id": "qfsPK-lEvMY_",
    "outputId": "b6232516-e496-461b-b427-2a92e389dfa7"
   },
   "outputs": [
    {
     "data": {
      "text/plain": [
       "((1345, 22), (1345, 2), (1, 22), (1, 2))"
      ]
     },
     "execution_count": 163,
     "metadata": {
      "tags": []
     },
     "output_type": "execute_result"
    }
   ],
   "source": [
    "X.shape, y.shape, X_new_testunseen.shape, y_new_testunseen_ans.shape"
   ]
  },
  {
   "cell_type": "code",
   "execution_count": 164,
   "metadata": {
    "id": "H8goLFmjvPnD"
   },
   "outputs": [],
   "source": [
    "split = ShuffleSplit(n_splits=10, test_size=0.2, random_state=42)\n",
    "\n",
    "\n",
    "for train_index, test_index in split.split(X, y):\n",
    "  X_train, X_test = X.iloc[train_index], X.iloc[test_index]\n",
    "  y_train, y_test = y.iloc[train_index], y.iloc[test_index]"
   ]
  },
  {
   "cell_type": "code",
   "execution_count": 165,
   "metadata": {
    "colab": {
     "base_uri": "https://localhost:8080/"
    },
    "id": "iB85eSLIvuzL",
    "outputId": "c3d7208a-48d1-41ae-d6d9-c2cbf8b10e2a"
   },
   "outputs": [
    {
     "data": {
      "text/plain": [
       "((1076, 22), (1076, 2), (269, 22), (269, 2))"
      ]
     },
     "execution_count": 165,
     "metadata": {
      "tags": []
     },
     "output_type": "execute_result"
    }
   ],
   "source": [
    " X_train.shape, y_train.shape, X_test.shape, y_test.shape"
   ]
  },
  {
   "cell_type": "markdown",
   "metadata": {
    "id": "rmrfpT6yv_MV"
   },
   "source": [
    "predicting two columns using Chained Multioutput Regression:\n",
    "\n",
    ">Chained Multioutput Regression is appropriate option as the stock price ((high+low+close)/3) and closing price are interdependent."
   ]
  },
  {
   "cell_type": "code",
   "execution_count": 166,
   "metadata": {
    "id": "dyz-zV2Mvu3F"
   },
   "outputs": [],
   "source": [
    "rfg = RandomForestRegressor(random_state = 42, n_estimators = 500, criterion='mse', max_depth = 30, min_samples_leaf=2, min_samples_split=5, n_jobs=1)"
   ]
  },
  {
   "cell_type": "code",
   "execution_count": 167,
   "metadata": {
    "colab": {
     "base_uri": "https://localhost:8080/"
    },
    "id": "ZEZUiA9twjDj",
    "outputId": "9455b34a-18ca-4a16-c0d7-8bdb63091bac"
   },
   "outputs": [
    {
     "data": {
      "text/plain": [
       "RegressorChain(base_estimator=RandomForestRegressor(bootstrap=True,\n",
       "                                                    ccp_alpha=0.0,\n",
       "                                                    criterion='mse',\n",
       "                                                    max_depth=30,\n",
       "                                                    max_features='auto',\n",
       "                                                    max_leaf_nodes=None,\n",
       "                                                    max_samples=None,\n",
       "                                                    min_impurity_decrease=0.0,\n",
       "                                                    min_impurity_split=None,\n",
       "                                                    min_samples_leaf=2,\n",
       "                                                    min_samples_split=5,\n",
       "                                                    min_weight_fraction_leaf=0.0,\n",
       "                                                    n_estimators=500, n_jobs=1,\n",
       "                                                    oob_score=False,\n",
       "                                                    random_state=42, verbose=0,\n",
       "                                                    warm_start=False),\n",
       "               cv=None, order=None, random_state=None)"
      ]
     },
     "execution_count": 167,
     "metadata": {
      "tags": []
     },
     "output_type": "execute_result"
    }
   ],
   "source": [
    "chainedmodel = RegressorChain(rfg)\n",
    "chainedmodel.fit(X_train, y_train)"
   ]
  },
  {
   "cell_type": "code",
   "execution_count": 168,
   "metadata": {
    "id": "vpXHntqMwk2b"
   },
   "outputs": [],
   "source": [
    "prediction = chainedmodel.predict(X_test)\n",
    "roundprediction = []\n",
    "for x in range(len(prediction)):\n",
    "  roundprediction.append([round(prediction[x][0], 2),round(prediction[x][1], 2) ])\n"
   ]
  },
  {
   "cell_type": "code",
   "execution_count": 170,
   "metadata": {
    "colab": {
     "base_uri": "https://localhost:8080/"
    },
    "id": "UxZazVxrw0HP",
    "outputId": "57cc4cd0-dce5-456d-a0e6-51fd99cc5407"
   },
   "outputs": [
    {
     "data": {
      "text/plain": [
       "0.9946097756135737"
      ]
     },
     "execution_count": 170,
     "metadata": {
      "tags": []
     },
     "output_type": "execute_result"
    }
   ],
   "source": [
    "r2_score(y_test, roundprediction) "
   ]
  },
  {
   "cell_type": "markdown",
   "metadata": {
    "id": "MlsNQEKIxENi"
   },
   "source": [
    "#evaluating the performance \n",
    "\n",
    ">used average of high, low, close, volume to calculate price ((high+low+close)/3) and close value"
   ]
  },
  {
   "cell_type": "code",
   "execution_count": 172,
   "metadata": {
    "colab": {
     "base_uri": "https://localhost:8080/"
    },
    "id": "NDyeMwhtw4ES",
    "outputId": "88518b24-ebd8-4af6-af39-c1976f4230b3"
   },
   "outputs": [
    {
     "name": "stdout",
     "output_type": "stream",
     "text": [
      "MAE\n",
      "256.60849442379185\n",
      "MSE\n",
      "130640.03084070643\n",
      "RMSE\n",
      "361.44160087171264\n"
     ]
    }
   ],
   "source": [
    "print('MAE')\n",
    "print(mean_absolute_error(y_test, roundprediction), end='\\n')\n",
    "\n",
    "print('MSE')\n",
    "print(mean_squared_error(y_test, roundprediction), end='\\n')\n",
    "\n",
    "print('RMSE')\n",
    "print(np.sqrt(mean_squared_error(y_test, roundprediction)))"
   ]
  },
  {
   "cell_type": "code",
   "execution_count": 176,
   "metadata": {
    "colab": {
     "base_uri": "https://localhost:8080/"
    },
    "id": "x6YjeR3XxHMv",
    "outputId": "1c46387b-9aa0-4707-d497-c414d74d734b"
   },
   "outputs": [
    {
     "data": {
      "text/plain": [
       "array([[35059.66675286, 34955.75235022]])"
      ]
     },
     "execution_count": 176,
     "metadata": {
      "tags": []
     },
     "output_type": "execute_result"
    }
   ],
   "source": [
    "pred_new_testunseen = chainedmodel.predict(X_new_testunseen)\n",
    "pred_new_testunseen\n"
   ]
  },
  {
   "cell_type": "code",
   "execution_count": 177,
   "metadata": {
    "colab": {
     "base_uri": "https://localhost:8080/"
    },
    "id": "uZKg8y8gxaWV",
    "outputId": "20bb9f26-6b0d-4b7e-e313-4b49763a22a5"
   },
   "outputs": [
    {
     "data": {
      "text/plain": [
       "[35059.67, 34955.75]"
      ]
     },
     "execution_count": 177,
     "metadata": {
      "tags": []
     },
     "output_type": "execute_result"
    }
   ],
   "source": [
    "[(round(pred_new_testunseen[0][0], 2)),(round(pred_new_testunseen[0][1], 2))]"
   ]
  },
  {
   "cell_type": "code",
   "execution_count": 179,
   "metadata": {
    "colab": {
     "base_uri": "https://localhost:8080/",
     "height": 78
    },
    "id": "OflWI4sFxnLl",
    "outputId": "dac6619b-b68d-448a-9f35-4f57cb869068"
   },
   "outputs": [
    {
     "data": {
      "text/html": [
       "<div>\n",
       "<style scoped>\n",
       "    .dataframe tbody tr th:only-of-type {\n",
       "        vertical-align: middle;\n",
       "    }\n",
       "\n",
       "    .dataframe tbody tr th {\n",
       "        vertical-align: top;\n",
       "    }\n",
       "\n",
       "    .dataframe thead th {\n",
       "        text-align: right;\n",
       "    }\n",
       "</style>\n",
       "<table border=\"1\" class=\"dataframe\">\n",
       "  <thead>\n",
       "    <tr style=\"text-align: right;\">\n",
       "      <th></th>\n",
       "      <th>price</th>\n",
       "      <th>close</th>\n",
       "    </tr>\n",
       "  </thead>\n",
       "  <tbody>\n",
       "    <tr>\n",
       "      <th>0</th>\n",
       "      <td>34885.31</td>\n",
       "      <td>34961.52</td>\n",
       "    </tr>\n",
       "  </tbody>\n",
       "</table>\n",
       "</div>"
      ],
      "text/plain": [
       "      price     close\n",
       "0  34885.31  34961.52"
      ]
     },
     "execution_count": 179,
     "metadata": {
      "tags": []
     },
     "output_type": "execute_result"
    }
   ],
   "source": [
    "y_new_testunseen_ans"
   ]
  },
  {
   "cell_type": "markdown",
   "metadata": {
    "id": "hlai9YRnzHnm"
   },
   "source": [
    "The actual price ((high+low+close)/3) i.e the average of high, low, close of BSE index on day 30th June 2020 was 34987.5, and closing price was 34915.8"
   ]
  },
  {
   "cell_type": "markdown",
   "metadata": {
    "id": "VyQ1gC2vzO8w"
   },
   "source": [
    "\n",
    "So as seen above the model has done a very good prediction"
   ]
  },
  {
   "cell_type": "markdown",
   "metadata": {
    "id": "6mrwVXhUzWHW"
   },
   "source": [
    "# Thank You"
   ]
  }
 ],
 "metadata": {
  "colab": {
   "collapsed_sections": [],
   "name": "task 7.ipynb",
   "provenance": []
  },
  "kernelspec": {
   "display_name": "Python 3",
   "language": "python",
   "name": "python3"
  },
  "language_info": {
   "codemirror_mode": {
    "name": "ipython",
    "version": 3
   },
   "file_extension": ".py",
   "mimetype": "text/x-python",
   "name": "python",
   "nbconvert_exporter": "python",
   "pygments_lexer": "ipython3",
   "version": "3.7.4"
  }
 },
 "nbformat": 4,
 "nbformat_minor": 1
}
